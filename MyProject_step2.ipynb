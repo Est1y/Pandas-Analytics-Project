{
 "cells": [
  {
   "cell_type": "code",
   "execution_count": 1,
   "id": "01a24aab",
   "metadata": {},
   "outputs": [],
   "source": [
    "import pandas as pd\n",
    "import numpy as np\n",
    "import seaborn as sns\n",
    "import matplotlib.pyplot as plt\n",
    "%matplotlib inline\n",
    "plt.style.use('fivethirtyeight')\n",
    "import warnings\n",
    "warnings.filterwarnings('ignore')\n",
    "import datetime as dt"
   ]
  },
  {
   "cell_type": "code",
   "execution_count": 2,
   "id": "66c0ffff",
   "metadata": {},
   "outputs": [
    {
     "data": {
      "text/html": [
       "<div>\n",
       "<style scoped>\n",
       "    .dataframe tbody tr th:only-of-type {\n",
       "        vertical-align: middle;\n",
       "    }\n",
       "\n",
       "    .dataframe tbody tr th {\n",
       "        vertical-align: top;\n",
       "    }\n",
       "\n",
       "    .dataframe thead th {\n",
       "        text-align: right;\n",
       "    }\n",
       "</style>\n",
       "<table border=\"1\" class=\"dataframe\">\n",
       "  <thead>\n",
       "    <tr style=\"text-align: right;\">\n",
       "      <th></th>\n",
       "      <th>Unnamed: 0</th>\n",
       "      <th>Invoice ID</th>\n",
       "      <th>Branch</th>\n",
       "      <th>City</th>\n",
       "      <th>Customer type</th>\n",
       "      <th>Gender</th>\n",
       "      <th>Product line</th>\n",
       "      <th>Unit price</th>\n",
       "      <th>Quantity</th>\n",
       "      <th>Tax 5%</th>\n",
       "      <th>Total</th>\n",
       "      <th>Date</th>\n",
       "      <th>Time</th>\n",
       "      <th>Payment</th>\n",
       "      <th>cogs</th>\n",
       "      <th>gross margin percentage</th>\n",
       "      <th>gross income</th>\n",
       "      <th>Rating</th>\n",
       "    </tr>\n",
       "  </thead>\n",
       "  <tbody>\n",
       "    <tr>\n",
       "      <th>0</th>\n",
       "      <td>0</td>\n",
       "      <td>750-67-8428</td>\n",
       "      <td>A</td>\n",
       "      <td>Lagos</td>\n",
       "      <td>Member</td>\n",
       "      <td>Female</td>\n",
       "      <td>Health and beauty</td>\n",
       "      <td>26888.4</td>\n",
       "      <td>7</td>\n",
       "      <td>9410.94</td>\n",
       "      <td>197629.74</td>\n",
       "      <td>1/5/2019</td>\n",
       "      <td>13:08</td>\n",
       "      <td>Epay</td>\n",
       "      <td>188218.8</td>\n",
       "      <td>4.761905</td>\n",
       "      <td>9410.94</td>\n",
       "      <td>9.1</td>\n",
       "    </tr>\n",
       "    <tr>\n",
       "      <th>1</th>\n",
       "      <td>1</td>\n",
       "      <td>631-41-3108</td>\n",
       "      <td>A</td>\n",
       "      <td>Lagos</td>\n",
       "      <td>Normal</td>\n",
       "      <td>Male</td>\n",
       "      <td>Home and lifestyle</td>\n",
       "      <td>16678.8</td>\n",
       "      <td>7</td>\n",
       "      <td>5837.58</td>\n",
       "      <td>122589.18</td>\n",
       "      <td>3/3/2019</td>\n",
       "      <td>13:23</td>\n",
       "      <td>Card</td>\n",
       "      <td>116751.6</td>\n",
       "      <td>4.761905</td>\n",
       "      <td>5837.58</td>\n",
       "      <td>7.4</td>\n",
       "    </tr>\n",
       "    <tr>\n",
       "      <th>2</th>\n",
       "      <td>2</td>\n",
       "      <td>123-19-1176</td>\n",
       "      <td>A</td>\n",
       "      <td>Lagos</td>\n",
       "      <td>Member</td>\n",
       "      <td>Male</td>\n",
       "      <td>Health and beauty</td>\n",
       "      <td>20959.2</td>\n",
       "      <td>8</td>\n",
       "      <td>8383.68</td>\n",
       "      <td>176057.28</td>\n",
       "      <td>1/27/2019</td>\n",
       "      <td>20:33</td>\n",
       "      <td>Epay</td>\n",
       "      <td>167673.6</td>\n",
       "      <td>4.761905</td>\n",
       "      <td>8383.68</td>\n",
       "      <td>8.4</td>\n",
       "    </tr>\n",
       "    <tr>\n",
       "      <th>3</th>\n",
       "      <td>3</td>\n",
       "      <td>373-73-7910</td>\n",
       "      <td>A</td>\n",
       "      <td>Lagos</td>\n",
       "      <td>Normal</td>\n",
       "      <td>Male</td>\n",
       "      <td>Sports and travel</td>\n",
       "      <td>31071.6</td>\n",
       "      <td>7</td>\n",
       "      <td>10875.06</td>\n",
       "      <td>228376.26</td>\n",
       "      <td>2/8/2019</td>\n",
       "      <td>10:37</td>\n",
       "      <td>Epay</td>\n",
       "      <td>217501.2</td>\n",
       "      <td>4.761905</td>\n",
       "      <td>10875.06</td>\n",
       "      <td>5.3</td>\n",
       "    </tr>\n",
       "    <tr>\n",
       "      <th>4</th>\n",
       "      <td>4</td>\n",
       "      <td>355-53-5943</td>\n",
       "      <td>A</td>\n",
       "      <td>Lagos</td>\n",
       "      <td>Member</td>\n",
       "      <td>Female</td>\n",
       "      <td>Electronic accessories</td>\n",
       "      <td>24782.4</td>\n",
       "      <td>6</td>\n",
       "      <td>7434.72</td>\n",
       "      <td>156129.12</td>\n",
       "      <td>2/25/2019</td>\n",
       "      <td>14:36</td>\n",
       "      <td>Epay</td>\n",
       "      <td>148694.4</td>\n",
       "      <td>4.761905</td>\n",
       "      <td>7434.72</td>\n",
       "      <td>5.8</td>\n",
       "    </tr>\n",
       "  </tbody>\n",
       "</table>\n",
       "</div>"
      ],
      "text/plain": [
       "   Unnamed: 0   Invoice ID Branch   City Customer type  Gender  \\\n",
       "0           0  750-67-8428      A  Lagos        Member  Female   \n",
       "1           1  631-41-3108      A  Lagos        Normal    Male   \n",
       "2           2  123-19-1176      A  Lagos        Member    Male   \n",
       "3           3  373-73-7910      A  Lagos        Normal    Male   \n",
       "4           4  355-53-5943      A  Lagos        Member  Female   \n",
       "\n",
       "             Product line  Unit price  Quantity    Tax 5%      Total  \\\n",
       "0       Health and beauty     26888.4         7   9410.94  197629.74   \n",
       "1      Home and lifestyle     16678.8         7   5837.58  122589.18   \n",
       "2       Health and beauty     20959.2         8   8383.68  176057.28   \n",
       "3       Sports and travel     31071.6         7  10875.06  228376.26   \n",
       "4  Electronic accessories     24782.4         6   7434.72  156129.12   \n",
       "\n",
       "        Date   Time Payment      cogs  gross margin percentage  gross income  \\\n",
       "0   1/5/2019  13:08    Epay  188218.8                 4.761905       9410.94   \n",
       "1   3/3/2019  13:23    Card  116751.6                 4.761905       5837.58   \n",
       "2  1/27/2019  20:33    Epay  167673.6                 4.761905       8383.68   \n",
       "3   2/8/2019  10:37    Epay  217501.2                 4.761905      10875.06   \n",
       "4  2/25/2019  14:36    Epay  148694.4                 4.761905       7434.72   \n",
       "\n",
       "   Rating  \n",
       "0     9.1  \n",
       "1     7.4  \n",
       "2     8.4  \n",
       "3     5.3  \n",
       "4     5.8  "
      ]
     },
     "execution_count": 2,
     "metadata": {},
     "output_type": "execute_result"
    }
   ],
   "source": [
    "# View the first 5rows of the dataset\n",
    "df = pd.read_csv('Market_data.csv')\n",
    "df.head(5)"
   ]
  },
  {
   "cell_type": "code",
   "execution_count": 3,
   "id": "022eba6a",
   "metadata": {},
   "outputs": [
    {
     "data": {
      "text/plain": [
       "(1000, 18)"
      ]
     },
     "execution_count": 3,
     "metadata": {},
     "output_type": "execute_result"
    }
   ],
   "source": [
    "#To check no of rows and column\n",
    "df.shape"
   ]
  },
  {
   "cell_type": "code",
   "execution_count": 4,
   "id": "6ff0da19",
   "metadata": {},
   "outputs": [
    {
     "data": {
      "text/plain": [
       "Index(['Unnamed: 0', 'Invoice ID', 'Branch', 'City', 'Customer type', 'Gender',\n",
       "       'Product line', 'Unit price', 'Quantity', 'Tax 5%', 'Total', 'Date',\n",
       "       'Time', 'Payment', 'cogs', 'gross margin percentage', 'gross income',\n",
       "       'Rating'],\n",
       "      dtype='object')"
      ]
     },
     "execution_count": 4,
     "metadata": {},
     "output_type": "execute_result"
    }
   ],
   "source": [
    "# To check various column name in the dataset\n",
    "df.columns"
   ]
  },
  {
   "cell_type": "markdown",
   "id": "401ddd35",
   "metadata": {},
   "source": [
    "# Statistical summary"
   ]
  },
  {
   "cell_type": "code",
   "execution_count": 5,
   "id": "6185861a",
   "metadata": {},
   "outputs": [
    {
     "data": {
      "text/html": [
       "<div>\n",
       "<style scoped>\n",
       "    .dataframe tbody tr th:only-of-type {\n",
       "        vertical-align: middle;\n",
       "    }\n",
       "\n",
       "    .dataframe tbody tr th {\n",
       "        vertical-align: top;\n",
       "    }\n",
       "\n",
       "    .dataframe thead th {\n",
       "        text-align: right;\n",
       "    }\n",
       "</style>\n",
       "<table border=\"1\" class=\"dataframe\">\n",
       "  <thead>\n",
       "    <tr style=\"text-align: right;\">\n",
       "      <th></th>\n",
       "      <th>Unnamed: 0</th>\n",
       "      <th>Unit price</th>\n",
       "      <th>Quantity</th>\n",
       "      <th>Tax 5%</th>\n",
       "      <th>Total</th>\n",
       "      <th>cogs</th>\n",
       "      <th>gross margin percentage</th>\n",
       "      <th>gross income</th>\n",
       "      <th>Rating</th>\n",
       "    </tr>\n",
       "  </thead>\n",
       "  <tbody>\n",
       "    <tr>\n",
       "      <th>count</th>\n",
       "      <td>1000.000000</td>\n",
       "      <td>1000.000000</td>\n",
       "      <td>1000.000000</td>\n",
       "      <td>1000.000000</td>\n",
       "      <td>1000.000000</td>\n",
       "      <td>1000.000000</td>\n",
       "      <td>1.000000e+03</td>\n",
       "      <td>1000.000000</td>\n",
       "      <td>1000.00000</td>\n",
       "    </tr>\n",
       "    <tr>\n",
       "      <th>mean</th>\n",
       "      <td>166.204000</td>\n",
       "      <td>20041.966800</td>\n",
       "      <td>5.510000</td>\n",
       "      <td>5536.572840</td>\n",
       "      <td>116268.029640</td>\n",
       "      <td>110731.456800</td>\n",
       "      <td>4.761905e+00</td>\n",
       "      <td>5536.572840</td>\n",
       "      <td>6.97270</td>\n",
       "    </tr>\n",
       "    <tr>\n",
       "      <th>std</th>\n",
       "      <td>96.337673</td>\n",
       "      <td>9538.066205</td>\n",
       "      <td>2.923431</td>\n",
       "      <td>4215.177173</td>\n",
       "      <td>88518.720636</td>\n",
       "      <td>84303.543463</td>\n",
       "      <td>6.131498e-14</td>\n",
       "      <td>4215.177173</td>\n",
       "      <td>1.71858</td>\n",
       "    </tr>\n",
       "    <tr>\n",
       "      <th>min</th>\n",
       "      <td>0.000000</td>\n",
       "      <td>3628.800000</td>\n",
       "      <td>1.000000</td>\n",
       "      <td>183.060000</td>\n",
       "      <td>3844.260000</td>\n",
       "      <td>3661.200000</td>\n",
       "      <td>4.761905e+00</td>\n",
       "      <td>183.060000</td>\n",
       "      <td>4.00000</td>\n",
       "    </tr>\n",
       "    <tr>\n",
       "      <th>25%</th>\n",
       "      <td>83.000000</td>\n",
       "      <td>11835.000000</td>\n",
       "      <td>3.000000</td>\n",
       "      <td>2132.955000</td>\n",
       "      <td>44792.055000</td>\n",
       "      <td>42659.100000</td>\n",
       "      <td>4.761905e+00</td>\n",
       "      <td>2132.955000</td>\n",
       "      <td>5.50000</td>\n",
       "    </tr>\n",
       "    <tr>\n",
       "      <th>50%</th>\n",
       "      <td>166.000000</td>\n",
       "      <td>19882.800000</td>\n",
       "      <td>5.000000</td>\n",
       "      <td>4351.680000</td>\n",
       "      <td>91385.280000</td>\n",
       "      <td>87033.600000</td>\n",
       "      <td>4.761905e+00</td>\n",
       "      <td>4351.680000</td>\n",
       "      <td>7.00000</td>\n",
       "    </tr>\n",
       "    <tr>\n",
       "      <th>75%</th>\n",
       "      <td>249.250000</td>\n",
       "      <td>28056.600000</td>\n",
       "      <td>8.000000</td>\n",
       "      <td>8080.290000</td>\n",
       "      <td>169686.090000</td>\n",
       "      <td>161605.800000</td>\n",
       "      <td>4.761905e+00</td>\n",
       "      <td>8080.290000</td>\n",
       "      <td>8.50000</td>\n",
       "    </tr>\n",
       "    <tr>\n",
       "      <th>max</th>\n",
       "      <td>339.000000</td>\n",
       "      <td>35985.600000</td>\n",
       "      <td>10.000000</td>\n",
       "      <td>17874.000000</td>\n",
       "      <td>375354.000000</td>\n",
       "      <td>357480.000000</td>\n",
       "      <td>4.761905e+00</td>\n",
       "      <td>17874.000000</td>\n",
       "      <td>10.00000</td>\n",
       "    </tr>\n",
       "  </tbody>\n",
       "</table>\n",
       "</div>"
      ],
      "text/plain": [
       "        Unnamed: 0    Unit price     Quantity        Tax 5%          Total  \\\n",
       "count  1000.000000   1000.000000  1000.000000   1000.000000    1000.000000   \n",
       "mean    166.204000  20041.966800     5.510000   5536.572840  116268.029640   \n",
       "std      96.337673   9538.066205     2.923431   4215.177173   88518.720636   \n",
       "min       0.000000   3628.800000     1.000000    183.060000    3844.260000   \n",
       "25%      83.000000  11835.000000     3.000000   2132.955000   44792.055000   \n",
       "50%     166.000000  19882.800000     5.000000   4351.680000   91385.280000   \n",
       "75%     249.250000  28056.600000     8.000000   8080.290000  169686.090000   \n",
       "max     339.000000  35985.600000    10.000000  17874.000000  375354.000000   \n",
       "\n",
       "                cogs  gross margin percentage  gross income      Rating  \n",
       "count    1000.000000             1.000000e+03   1000.000000  1000.00000  \n",
       "mean   110731.456800             4.761905e+00   5536.572840     6.97270  \n",
       "std     84303.543463             6.131498e-14   4215.177173     1.71858  \n",
       "min      3661.200000             4.761905e+00    183.060000     4.00000  \n",
       "25%     42659.100000             4.761905e+00   2132.955000     5.50000  \n",
       "50%     87033.600000             4.761905e+00   4351.680000     7.00000  \n",
       "75%    161605.800000             4.761905e+00   8080.290000     8.50000  \n",
       "max    357480.000000             4.761905e+00  17874.000000    10.00000  "
      ]
     },
     "execution_count": 5,
     "metadata": {},
     "output_type": "execute_result"
    }
   ],
   "source": [
    "#To get statistical surmary\n",
    "df.describe()"
   ]
  },
  {
   "cell_type": "markdown",
   "id": "7a5e9895",
   "metadata": {},
   "source": [
    "# Deductions:\n",
    "There are 1000 rows.\n",
    "\n",
    "The mean, std, min, max and various percentage of the total summation of values for each columns with numeric values were present with a single command (Describe)"
   ]
  },
  {
   "cell_type": "code",
   "execution_count": 6,
   "id": "eaf11085",
   "metadata": {},
   "outputs": [
    {
     "data": {
      "text/html": [
       "<div>\n",
       "<style scoped>\n",
       "    .dataframe tbody tr th:only-of-type {\n",
       "        vertical-align: middle;\n",
       "    }\n",
       "\n",
       "    .dataframe tbody tr th {\n",
       "        vertical-align: top;\n",
       "    }\n",
       "\n",
       "    .dataframe thead th {\n",
       "        text-align: right;\n",
       "    }\n",
       "</style>\n",
       "<table border=\"1\" class=\"dataframe\">\n",
       "  <thead>\n",
       "    <tr style=\"text-align: right;\">\n",
       "      <th></th>\n",
       "      <th>Unnamed: 0</th>\n",
       "      <th>Invoice ID</th>\n",
       "      <th>Branch</th>\n",
       "      <th>City</th>\n",
       "      <th>Customer type</th>\n",
       "      <th>Gender</th>\n",
       "      <th>Product line</th>\n",
       "      <th>Unit price</th>\n",
       "      <th>Quantity</th>\n",
       "      <th>Tax 5%</th>\n",
       "      <th>Total</th>\n",
       "      <th>Date</th>\n",
       "      <th>Time</th>\n",
       "      <th>Payment</th>\n",
       "      <th>cogs</th>\n",
       "      <th>gross margin percentage</th>\n",
       "      <th>gross income</th>\n",
       "      <th>Rating</th>\n",
       "    </tr>\n",
       "  </thead>\n",
       "  <tbody>\n",
       "    <tr>\n",
       "      <th>0</th>\n",
       "      <td>False</td>\n",
       "      <td>False</td>\n",
       "      <td>False</td>\n",
       "      <td>False</td>\n",
       "      <td>False</td>\n",
       "      <td>False</td>\n",
       "      <td>False</td>\n",
       "      <td>False</td>\n",
       "      <td>False</td>\n",
       "      <td>False</td>\n",
       "      <td>False</td>\n",
       "      <td>False</td>\n",
       "      <td>False</td>\n",
       "      <td>False</td>\n",
       "      <td>False</td>\n",
       "      <td>False</td>\n",
       "      <td>False</td>\n",
       "      <td>False</td>\n",
       "    </tr>\n",
       "    <tr>\n",
       "      <th>1</th>\n",
       "      <td>False</td>\n",
       "      <td>False</td>\n",
       "      <td>False</td>\n",
       "      <td>False</td>\n",
       "      <td>False</td>\n",
       "      <td>False</td>\n",
       "      <td>False</td>\n",
       "      <td>False</td>\n",
       "      <td>False</td>\n",
       "      <td>False</td>\n",
       "      <td>False</td>\n",
       "      <td>False</td>\n",
       "      <td>False</td>\n",
       "      <td>False</td>\n",
       "      <td>False</td>\n",
       "      <td>False</td>\n",
       "      <td>False</td>\n",
       "      <td>False</td>\n",
       "    </tr>\n",
       "    <tr>\n",
       "      <th>2</th>\n",
       "      <td>False</td>\n",
       "      <td>False</td>\n",
       "      <td>False</td>\n",
       "      <td>False</td>\n",
       "      <td>False</td>\n",
       "      <td>False</td>\n",
       "      <td>False</td>\n",
       "      <td>False</td>\n",
       "      <td>False</td>\n",
       "      <td>False</td>\n",
       "      <td>False</td>\n",
       "      <td>False</td>\n",
       "      <td>False</td>\n",
       "      <td>False</td>\n",
       "      <td>False</td>\n",
       "      <td>False</td>\n",
       "      <td>False</td>\n",
       "      <td>False</td>\n",
       "    </tr>\n",
       "    <tr>\n",
       "      <th>3</th>\n",
       "      <td>False</td>\n",
       "      <td>False</td>\n",
       "      <td>False</td>\n",
       "      <td>False</td>\n",
       "      <td>False</td>\n",
       "      <td>False</td>\n",
       "      <td>False</td>\n",
       "      <td>False</td>\n",
       "      <td>False</td>\n",
       "      <td>False</td>\n",
       "      <td>False</td>\n",
       "      <td>False</td>\n",
       "      <td>False</td>\n",
       "      <td>False</td>\n",
       "      <td>False</td>\n",
       "      <td>False</td>\n",
       "      <td>False</td>\n",
       "      <td>False</td>\n",
       "    </tr>\n",
       "    <tr>\n",
       "      <th>4</th>\n",
       "      <td>False</td>\n",
       "      <td>False</td>\n",
       "      <td>False</td>\n",
       "      <td>False</td>\n",
       "      <td>False</td>\n",
       "      <td>False</td>\n",
       "      <td>False</td>\n",
       "      <td>False</td>\n",
       "      <td>False</td>\n",
       "      <td>False</td>\n",
       "      <td>False</td>\n",
       "      <td>False</td>\n",
       "      <td>False</td>\n",
       "      <td>False</td>\n",
       "      <td>False</td>\n",
       "      <td>False</td>\n",
       "      <td>False</td>\n",
       "      <td>False</td>\n",
       "    </tr>\n",
       "    <tr>\n",
       "      <th>...</th>\n",
       "      <td>...</td>\n",
       "      <td>...</td>\n",
       "      <td>...</td>\n",
       "      <td>...</td>\n",
       "      <td>...</td>\n",
       "      <td>...</td>\n",
       "      <td>...</td>\n",
       "      <td>...</td>\n",
       "      <td>...</td>\n",
       "      <td>...</td>\n",
       "      <td>...</td>\n",
       "      <td>...</td>\n",
       "      <td>...</td>\n",
       "      <td>...</td>\n",
       "      <td>...</td>\n",
       "      <td>...</td>\n",
       "      <td>...</td>\n",
       "      <td>...</td>\n",
       "    </tr>\n",
       "    <tr>\n",
       "      <th>995</th>\n",
       "      <td>False</td>\n",
       "      <td>False</td>\n",
       "      <td>False</td>\n",
       "      <td>False</td>\n",
       "      <td>False</td>\n",
       "      <td>False</td>\n",
       "      <td>False</td>\n",
       "      <td>False</td>\n",
       "      <td>False</td>\n",
       "      <td>False</td>\n",
       "      <td>False</td>\n",
       "      <td>False</td>\n",
       "      <td>False</td>\n",
       "      <td>False</td>\n",
       "      <td>False</td>\n",
       "      <td>False</td>\n",
       "      <td>False</td>\n",
       "      <td>False</td>\n",
       "    </tr>\n",
       "    <tr>\n",
       "      <th>996</th>\n",
       "      <td>False</td>\n",
       "      <td>False</td>\n",
       "      <td>False</td>\n",
       "      <td>False</td>\n",
       "      <td>False</td>\n",
       "      <td>False</td>\n",
       "      <td>False</td>\n",
       "      <td>False</td>\n",
       "      <td>False</td>\n",
       "      <td>False</td>\n",
       "      <td>False</td>\n",
       "      <td>False</td>\n",
       "      <td>False</td>\n",
       "      <td>False</td>\n",
       "      <td>False</td>\n",
       "      <td>False</td>\n",
       "      <td>False</td>\n",
       "      <td>False</td>\n",
       "    </tr>\n",
       "    <tr>\n",
       "      <th>997</th>\n",
       "      <td>False</td>\n",
       "      <td>False</td>\n",
       "      <td>False</td>\n",
       "      <td>False</td>\n",
       "      <td>False</td>\n",
       "      <td>False</td>\n",
       "      <td>False</td>\n",
       "      <td>False</td>\n",
       "      <td>False</td>\n",
       "      <td>False</td>\n",
       "      <td>False</td>\n",
       "      <td>False</td>\n",
       "      <td>False</td>\n",
       "      <td>False</td>\n",
       "      <td>False</td>\n",
       "      <td>False</td>\n",
       "      <td>False</td>\n",
       "      <td>False</td>\n",
       "    </tr>\n",
       "    <tr>\n",
       "      <th>998</th>\n",
       "      <td>False</td>\n",
       "      <td>False</td>\n",
       "      <td>False</td>\n",
       "      <td>False</td>\n",
       "      <td>False</td>\n",
       "      <td>False</td>\n",
       "      <td>False</td>\n",
       "      <td>False</td>\n",
       "      <td>False</td>\n",
       "      <td>False</td>\n",
       "      <td>False</td>\n",
       "      <td>False</td>\n",
       "      <td>False</td>\n",
       "      <td>False</td>\n",
       "      <td>False</td>\n",
       "      <td>False</td>\n",
       "      <td>False</td>\n",
       "      <td>False</td>\n",
       "    </tr>\n",
       "    <tr>\n",
       "      <th>999</th>\n",
       "      <td>False</td>\n",
       "      <td>False</td>\n",
       "      <td>False</td>\n",
       "      <td>False</td>\n",
       "      <td>False</td>\n",
       "      <td>False</td>\n",
       "      <td>False</td>\n",
       "      <td>False</td>\n",
       "      <td>False</td>\n",
       "      <td>False</td>\n",
       "      <td>False</td>\n",
       "      <td>False</td>\n",
       "      <td>False</td>\n",
       "      <td>False</td>\n",
       "      <td>False</td>\n",
       "      <td>False</td>\n",
       "      <td>False</td>\n",
       "      <td>False</td>\n",
       "    </tr>\n",
       "  </tbody>\n",
       "</table>\n",
       "<p>1000 rows × 18 columns</p>\n",
       "</div>"
      ],
      "text/plain": [
       "     Unnamed: 0  Invoice ID  Branch   City  Customer type  Gender  \\\n",
       "0         False       False   False  False          False   False   \n",
       "1         False       False   False  False          False   False   \n",
       "2         False       False   False  False          False   False   \n",
       "3         False       False   False  False          False   False   \n",
       "4         False       False   False  False          False   False   \n",
       "..          ...         ...     ...    ...            ...     ...   \n",
       "995       False       False   False  False          False   False   \n",
       "996       False       False   False  False          False   False   \n",
       "997       False       False   False  False          False   False   \n",
       "998       False       False   False  False          False   False   \n",
       "999       False       False   False  False          False   False   \n",
       "\n",
       "     Product line  Unit price  Quantity  Tax 5%  Total   Date   Time  Payment  \\\n",
       "0           False       False     False   False  False  False  False    False   \n",
       "1           False       False     False   False  False  False  False    False   \n",
       "2           False       False     False   False  False  False  False    False   \n",
       "3           False       False     False   False  False  False  False    False   \n",
       "4           False       False     False   False  False  False  False    False   \n",
       "..            ...         ...       ...     ...    ...    ...    ...      ...   \n",
       "995         False       False     False   False  False  False  False    False   \n",
       "996         False       False     False   False  False  False  False    False   \n",
       "997         False       False     False   False  False  False  False    False   \n",
       "998         False       False     False   False  False  False  False    False   \n",
       "999         False       False     False   False  False  False  False    False   \n",
       "\n",
       "      cogs  gross margin percentage  gross income  Rating  \n",
       "0    False                    False         False   False  \n",
       "1    False                    False         False   False  \n",
       "2    False                    False         False   False  \n",
       "3    False                    False         False   False  \n",
       "4    False                    False         False   False  \n",
       "..     ...                      ...           ...     ...  \n",
       "995  False                    False         False   False  \n",
       "996  False                    False         False   False  \n",
       "997  False                    False         False   False  \n",
       "998  False                    False         False   False  \n",
       "999  False                    False         False   False  \n",
       "\n",
       "[1000 rows x 18 columns]"
      ]
     },
     "execution_count": 6,
     "metadata": {},
     "output_type": "execute_result"
    }
   ],
   "source": [
    "# Missing value:\n",
    "df.isnull()"
   ]
  },
  {
   "cell_type": "code",
   "execution_count": 7,
   "id": "30d2d644",
   "metadata": {},
   "outputs": [
    {
     "data": {
      "text/plain": [
       "Unnamed: 0                 0\n",
       "Invoice ID                 0\n",
       "Branch                     0\n",
       "City                       0\n",
       "Customer type              0\n",
       "Gender                     0\n",
       "Product line               0\n",
       "Unit price                 0\n",
       "Quantity                   0\n",
       "Tax 5%                     0\n",
       "Total                      0\n",
       "Date                       0\n",
       "Time                       0\n",
       "Payment                    0\n",
       "cogs                       0\n",
       "gross margin percentage    0\n",
       "gross income               0\n",
       "Rating                     0\n",
       "dtype: int64"
      ]
     },
     "execution_count": 7,
     "metadata": {},
     "output_type": "execute_result"
    }
   ],
   "source": [
    "df.isnull().sum()"
   ]
  },
  {
   "cell_type": "code",
   "execution_count": 8,
   "id": "f15aab36",
   "metadata": {},
   "outputs": [
    {
     "data": {
      "text/html": [
       "<div>\n",
       "<style scoped>\n",
       "    .dataframe tbody tr th:only-of-type {\n",
       "        vertical-align: middle;\n",
       "    }\n",
       "\n",
       "    .dataframe tbody tr th {\n",
       "        vertical-align: top;\n",
       "    }\n",
       "\n",
       "    .dataframe thead th {\n",
       "        text-align: right;\n",
       "    }\n",
       "</style>\n",
       "<table border=\"1\" class=\"dataframe\">\n",
       "  <thead>\n",
       "    <tr style=\"text-align: right;\">\n",
       "      <th></th>\n",
       "      <th>Unnamed: 0</th>\n",
       "      <th>Invoice ID</th>\n",
       "      <th>Branch</th>\n",
       "      <th>City</th>\n",
       "      <th>Customer type</th>\n",
       "      <th>Gender</th>\n",
       "      <th>Product line</th>\n",
       "      <th>Unit price</th>\n",
       "      <th>Quantity</th>\n",
       "      <th>Tax 5%</th>\n",
       "      <th>Total</th>\n",
       "      <th>Date</th>\n",
       "      <th>Time</th>\n",
       "      <th>Payment</th>\n",
       "      <th>cogs</th>\n",
       "      <th>gross margin percentage</th>\n",
       "      <th>gross income</th>\n",
       "      <th>Rating</th>\n",
       "    </tr>\n",
       "  </thead>\n",
       "  <tbody>\n",
       "    <tr>\n",
       "      <th>0</th>\n",
       "      <td>True</td>\n",
       "      <td>True</td>\n",
       "      <td>True</td>\n",
       "      <td>True</td>\n",
       "      <td>True</td>\n",
       "      <td>True</td>\n",
       "      <td>True</td>\n",
       "      <td>True</td>\n",
       "      <td>True</td>\n",
       "      <td>True</td>\n",
       "      <td>True</td>\n",
       "      <td>True</td>\n",
       "      <td>True</td>\n",
       "      <td>True</td>\n",
       "      <td>True</td>\n",
       "      <td>True</td>\n",
       "      <td>True</td>\n",
       "      <td>True</td>\n",
       "    </tr>\n",
       "    <tr>\n",
       "      <th>1</th>\n",
       "      <td>True</td>\n",
       "      <td>True</td>\n",
       "      <td>True</td>\n",
       "      <td>True</td>\n",
       "      <td>True</td>\n",
       "      <td>True</td>\n",
       "      <td>True</td>\n",
       "      <td>True</td>\n",
       "      <td>True</td>\n",
       "      <td>True</td>\n",
       "      <td>True</td>\n",
       "      <td>True</td>\n",
       "      <td>True</td>\n",
       "      <td>True</td>\n",
       "      <td>True</td>\n",
       "      <td>True</td>\n",
       "      <td>True</td>\n",
       "      <td>True</td>\n",
       "    </tr>\n",
       "    <tr>\n",
       "      <th>2</th>\n",
       "      <td>True</td>\n",
       "      <td>True</td>\n",
       "      <td>True</td>\n",
       "      <td>True</td>\n",
       "      <td>True</td>\n",
       "      <td>True</td>\n",
       "      <td>True</td>\n",
       "      <td>True</td>\n",
       "      <td>True</td>\n",
       "      <td>True</td>\n",
       "      <td>True</td>\n",
       "      <td>True</td>\n",
       "      <td>True</td>\n",
       "      <td>True</td>\n",
       "      <td>True</td>\n",
       "      <td>True</td>\n",
       "      <td>True</td>\n",
       "      <td>True</td>\n",
       "    </tr>\n",
       "    <tr>\n",
       "      <th>3</th>\n",
       "      <td>True</td>\n",
       "      <td>True</td>\n",
       "      <td>True</td>\n",
       "      <td>True</td>\n",
       "      <td>True</td>\n",
       "      <td>True</td>\n",
       "      <td>True</td>\n",
       "      <td>True</td>\n",
       "      <td>True</td>\n",
       "      <td>True</td>\n",
       "      <td>True</td>\n",
       "      <td>True</td>\n",
       "      <td>True</td>\n",
       "      <td>True</td>\n",
       "      <td>True</td>\n",
       "      <td>True</td>\n",
       "      <td>True</td>\n",
       "      <td>True</td>\n",
       "    </tr>\n",
       "    <tr>\n",
       "      <th>4</th>\n",
       "      <td>True</td>\n",
       "      <td>True</td>\n",
       "      <td>True</td>\n",
       "      <td>True</td>\n",
       "      <td>True</td>\n",
       "      <td>True</td>\n",
       "      <td>True</td>\n",
       "      <td>True</td>\n",
       "      <td>True</td>\n",
       "      <td>True</td>\n",
       "      <td>True</td>\n",
       "      <td>True</td>\n",
       "      <td>True</td>\n",
       "      <td>True</td>\n",
       "      <td>True</td>\n",
       "      <td>True</td>\n",
       "      <td>True</td>\n",
       "      <td>True</td>\n",
       "    </tr>\n",
       "    <tr>\n",
       "      <th>...</th>\n",
       "      <td>...</td>\n",
       "      <td>...</td>\n",
       "      <td>...</td>\n",
       "      <td>...</td>\n",
       "      <td>...</td>\n",
       "      <td>...</td>\n",
       "      <td>...</td>\n",
       "      <td>...</td>\n",
       "      <td>...</td>\n",
       "      <td>...</td>\n",
       "      <td>...</td>\n",
       "      <td>...</td>\n",
       "      <td>...</td>\n",
       "      <td>...</td>\n",
       "      <td>...</td>\n",
       "      <td>...</td>\n",
       "      <td>...</td>\n",
       "      <td>...</td>\n",
       "    </tr>\n",
       "    <tr>\n",
       "      <th>995</th>\n",
       "      <td>True</td>\n",
       "      <td>True</td>\n",
       "      <td>True</td>\n",
       "      <td>True</td>\n",
       "      <td>True</td>\n",
       "      <td>True</td>\n",
       "      <td>True</td>\n",
       "      <td>True</td>\n",
       "      <td>True</td>\n",
       "      <td>True</td>\n",
       "      <td>True</td>\n",
       "      <td>True</td>\n",
       "      <td>True</td>\n",
       "      <td>True</td>\n",
       "      <td>True</td>\n",
       "      <td>True</td>\n",
       "      <td>True</td>\n",
       "      <td>True</td>\n",
       "    </tr>\n",
       "    <tr>\n",
       "      <th>996</th>\n",
       "      <td>True</td>\n",
       "      <td>True</td>\n",
       "      <td>True</td>\n",
       "      <td>True</td>\n",
       "      <td>True</td>\n",
       "      <td>True</td>\n",
       "      <td>True</td>\n",
       "      <td>True</td>\n",
       "      <td>True</td>\n",
       "      <td>True</td>\n",
       "      <td>True</td>\n",
       "      <td>True</td>\n",
       "      <td>True</td>\n",
       "      <td>True</td>\n",
       "      <td>True</td>\n",
       "      <td>True</td>\n",
       "      <td>True</td>\n",
       "      <td>True</td>\n",
       "    </tr>\n",
       "    <tr>\n",
       "      <th>997</th>\n",
       "      <td>True</td>\n",
       "      <td>True</td>\n",
       "      <td>True</td>\n",
       "      <td>True</td>\n",
       "      <td>True</td>\n",
       "      <td>True</td>\n",
       "      <td>True</td>\n",
       "      <td>True</td>\n",
       "      <td>True</td>\n",
       "      <td>True</td>\n",
       "      <td>True</td>\n",
       "      <td>True</td>\n",
       "      <td>True</td>\n",
       "      <td>True</td>\n",
       "      <td>True</td>\n",
       "      <td>True</td>\n",
       "      <td>True</td>\n",
       "      <td>True</td>\n",
       "    </tr>\n",
       "    <tr>\n",
       "      <th>998</th>\n",
       "      <td>True</td>\n",
       "      <td>True</td>\n",
       "      <td>True</td>\n",
       "      <td>True</td>\n",
       "      <td>True</td>\n",
       "      <td>True</td>\n",
       "      <td>True</td>\n",
       "      <td>True</td>\n",
       "      <td>True</td>\n",
       "      <td>True</td>\n",
       "      <td>True</td>\n",
       "      <td>True</td>\n",
       "      <td>True</td>\n",
       "      <td>True</td>\n",
       "      <td>True</td>\n",
       "      <td>True</td>\n",
       "      <td>True</td>\n",
       "      <td>True</td>\n",
       "    </tr>\n",
       "    <tr>\n",
       "      <th>999</th>\n",
       "      <td>True</td>\n",
       "      <td>True</td>\n",
       "      <td>True</td>\n",
       "      <td>True</td>\n",
       "      <td>True</td>\n",
       "      <td>True</td>\n",
       "      <td>True</td>\n",
       "      <td>True</td>\n",
       "      <td>True</td>\n",
       "      <td>True</td>\n",
       "      <td>True</td>\n",
       "      <td>True</td>\n",
       "      <td>True</td>\n",
       "      <td>True</td>\n",
       "      <td>True</td>\n",
       "      <td>True</td>\n",
       "      <td>True</td>\n",
       "      <td>True</td>\n",
       "    </tr>\n",
       "  </tbody>\n",
       "</table>\n",
       "<p>1000 rows × 18 columns</p>\n",
       "</div>"
      ],
      "text/plain": [
       "     Unnamed: 0  Invoice ID  Branch  City  Customer type  Gender  \\\n",
       "0          True        True    True  True           True    True   \n",
       "1          True        True    True  True           True    True   \n",
       "2          True        True    True  True           True    True   \n",
       "3          True        True    True  True           True    True   \n",
       "4          True        True    True  True           True    True   \n",
       "..          ...         ...     ...   ...            ...     ...   \n",
       "995        True        True    True  True           True    True   \n",
       "996        True        True    True  True           True    True   \n",
       "997        True        True    True  True           True    True   \n",
       "998        True        True    True  True           True    True   \n",
       "999        True        True    True  True           True    True   \n",
       "\n",
       "     Product line  Unit price  Quantity  Tax 5%  Total  Date  Time  Payment  \\\n",
       "0            True        True      True    True   True  True  True     True   \n",
       "1            True        True      True    True   True  True  True     True   \n",
       "2            True        True      True    True   True  True  True     True   \n",
       "3            True        True      True    True   True  True  True     True   \n",
       "4            True        True      True    True   True  True  True     True   \n",
       "..            ...         ...       ...     ...    ...   ...   ...      ...   \n",
       "995          True        True      True    True   True  True  True     True   \n",
       "996          True        True      True    True   True  True  True     True   \n",
       "997          True        True      True    True   True  True  True     True   \n",
       "998          True        True      True    True   True  True  True     True   \n",
       "999          True        True      True    True   True  True  True     True   \n",
       "\n",
       "     cogs  gross margin percentage  gross income  Rating  \n",
       "0    True                     True          True    True  \n",
       "1    True                     True          True    True  \n",
       "2    True                     True          True    True  \n",
       "3    True                     True          True    True  \n",
       "4    True                     True          True    True  \n",
       "..    ...                      ...           ...     ...  \n",
       "995  True                     True          True    True  \n",
       "996  True                     True          True    True  \n",
       "997  True                     True          True    True  \n",
       "998  True                     True          True    True  \n",
       "999  True                     True          True    True  \n",
       "\n",
       "[1000 rows x 18 columns]"
      ]
     },
     "execution_count": 8,
     "metadata": {},
     "output_type": "execute_result"
    }
   ],
   "source": [
    "df.notnull()"
   ]
  },
  {
   "cell_type": "code",
   "execution_count": 9,
   "id": "72bdce31",
   "metadata": {},
   "outputs": [
    {
     "data": {
      "text/plain": [
       "Unnamed: 0                 1000\n",
       "Invoice ID                 1000\n",
       "Branch                     1000\n",
       "City                       1000\n",
       "Customer type              1000\n",
       "Gender                     1000\n",
       "Product line               1000\n",
       "Unit price                 1000\n",
       "Quantity                   1000\n",
       "Tax 5%                     1000\n",
       "Total                      1000\n",
       "Date                       1000\n",
       "Time                       1000\n",
       "Payment                    1000\n",
       "cogs                       1000\n",
       "gross margin percentage    1000\n",
       "gross income               1000\n",
       "Rating                     1000\n",
       "dtype: int64"
      ]
     },
     "execution_count": 9,
     "metadata": {},
     "output_type": "execute_result"
    }
   ],
   "source": [
    "df.notnull().sum()"
   ]
  },
  {
   "cell_type": "markdown",
   "id": "26717e81",
   "metadata": {},
   "source": [
    "# There are no missing values in the set"
   ]
  },
  {
   "cell_type": "code",
   "execution_count": 10,
   "id": "7810eb93",
   "metadata": {},
   "outputs": [
    {
     "name": "stdout",
     "output_type": "stream",
     "text": [
      "<class 'pandas.core.frame.DataFrame'>\n",
      "RangeIndex: 1000 entries, 0 to 999\n",
      "Data columns (total 18 columns):\n",
      " #   Column                   Non-Null Count  Dtype  \n",
      "---  ------                   --------------  -----  \n",
      " 0   Unnamed: 0               1000 non-null   int64  \n",
      " 1   Invoice ID               1000 non-null   object \n",
      " 2   Branch                   1000 non-null   object \n",
      " 3   City                     1000 non-null   object \n",
      " 4   Customer type            1000 non-null   object \n",
      " 5   Gender                   1000 non-null   object \n",
      " 6   Product line             1000 non-null   object \n",
      " 7   Unit price               1000 non-null   float64\n",
      " 8   Quantity                 1000 non-null   int64  \n",
      " 9   Tax 5%                   1000 non-null   float64\n",
      " 10  Total                    1000 non-null   float64\n",
      " 11  Date                     1000 non-null   object \n",
      " 12  Time                     1000 non-null   object \n",
      " 13  Payment                  1000 non-null   object \n",
      " 14  cogs                     1000 non-null   float64\n",
      " 15  gross margin percentage  1000 non-null   float64\n",
      " 16  gross income             1000 non-null   float64\n",
      " 17  Rating                   1000 non-null   float64\n",
      "dtypes: float64(7), int64(2), object(9)\n",
      "memory usage: 140.8+ KB\n"
     ]
    }
   ],
   "source": [
    "# Check the information of the dataframe\n",
    "df.info()"
   ]
  },
  {
   "cell_type": "code",
   "execution_count": 11,
   "id": "f670b3ef",
   "metadata": {},
   "outputs": [],
   "source": [
    "# Converting to datetime:\n",
    "df['Date'] = pd.to_datetime(df['Date'])\n",
    "df['Time'] = pd.to_datetime(df['Time'])"
   ]
  },
  {
   "cell_type": "code",
   "execution_count": 12,
   "id": "f94d858f",
   "metadata": {},
   "outputs": [
    {
     "data": {
      "text/html": [
       "<div>\n",
       "<style scoped>\n",
       "    .dataframe tbody tr th:only-of-type {\n",
       "        vertical-align: middle;\n",
       "    }\n",
       "\n",
       "    .dataframe tbody tr th {\n",
       "        vertical-align: top;\n",
       "    }\n",
       "\n",
       "    .dataframe thead th {\n",
       "        text-align: right;\n",
       "    }\n",
       "</style>\n",
       "<table border=\"1\" class=\"dataframe\">\n",
       "  <thead>\n",
       "    <tr style=\"text-align: right;\">\n",
       "      <th></th>\n",
       "      <th>Unnamed: 0</th>\n",
       "      <th>Invoice ID</th>\n",
       "      <th>Branch</th>\n",
       "      <th>City</th>\n",
       "      <th>Customer type</th>\n",
       "      <th>Gender</th>\n",
       "      <th>Product line</th>\n",
       "      <th>Unit price</th>\n",
       "      <th>Quantity</th>\n",
       "      <th>Tax 5%</th>\n",
       "      <th>Total</th>\n",
       "      <th>Date</th>\n",
       "      <th>Time</th>\n",
       "      <th>Payment</th>\n",
       "      <th>cogs</th>\n",
       "      <th>gross margin percentage</th>\n",
       "      <th>gross income</th>\n",
       "      <th>Rating</th>\n",
       "    </tr>\n",
       "  </thead>\n",
       "  <tbody>\n",
       "    <tr>\n",
       "      <th>0</th>\n",
       "      <td>0</td>\n",
       "      <td>750-67-8428</td>\n",
       "      <td>A</td>\n",
       "      <td>Lagos</td>\n",
       "      <td>Member</td>\n",
       "      <td>Female</td>\n",
       "      <td>Health and beauty</td>\n",
       "      <td>26888.4</td>\n",
       "      <td>7</td>\n",
       "      <td>9410.94</td>\n",
       "      <td>197629.74</td>\n",
       "      <td>2019-01-05</td>\n",
       "      <td>2023-03-02 13:08:00</td>\n",
       "      <td>Epay</td>\n",
       "      <td>188218.8</td>\n",
       "      <td>4.761905</td>\n",
       "      <td>9410.94</td>\n",
       "      <td>9.1</td>\n",
       "    </tr>\n",
       "    <tr>\n",
       "      <th>1</th>\n",
       "      <td>1</td>\n",
       "      <td>631-41-3108</td>\n",
       "      <td>A</td>\n",
       "      <td>Lagos</td>\n",
       "      <td>Normal</td>\n",
       "      <td>Male</td>\n",
       "      <td>Home and lifestyle</td>\n",
       "      <td>16678.8</td>\n",
       "      <td>7</td>\n",
       "      <td>5837.58</td>\n",
       "      <td>122589.18</td>\n",
       "      <td>2019-03-03</td>\n",
       "      <td>2023-03-02 13:23:00</td>\n",
       "      <td>Card</td>\n",
       "      <td>116751.6</td>\n",
       "      <td>4.761905</td>\n",
       "      <td>5837.58</td>\n",
       "      <td>7.4</td>\n",
       "    </tr>\n",
       "    <tr>\n",
       "      <th>2</th>\n",
       "      <td>2</td>\n",
       "      <td>123-19-1176</td>\n",
       "      <td>A</td>\n",
       "      <td>Lagos</td>\n",
       "      <td>Member</td>\n",
       "      <td>Male</td>\n",
       "      <td>Health and beauty</td>\n",
       "      <td>20959.2</td>\n",
       "      <td>8</td>\n",
       "      <td>8383.68</td>\n",
       "      <td>176057.28</td>\n",
       "      <td>2019-01-27</td>\n",
       "      <td>2023-03-02 20:33:00</td>\n",
       "      <td>Epay</td>\n",
       "      <td>167673.6</td>\n",
       "      <td>4.761905</td>\n",
       "      <td>8383.68</td>\n",
       "      <td>8.4</td>\n",
       "    </tr>\n",
       "    <tr>\n",
       "      <th>3</th>\n",
       "      <td>3</td>\n",
       "      <td>373-73-7910</td>\n",
       "      <td>A</td>\n",
       "      <td>Lagos</td>\n",
       "      <td>Normal</td>\n",
       "      <td>Male</td>\n",
       "      <td>Sports and travel</td>\n",
       "      <td>31071.6</td>\n",
       "      <td>7</td>\n",
       "      <td>10875.06</td>\n",
       "      <td>228376.26</td>\n",
       "      <td>2019-02-08</td>\n",
       "      <td>2023-03-02 10:37:00</td>\n",
       "      <td>Epay</td>\n",
       "      <td>217501.2</td>\n",
       "      <td>4.761905</td>\n",
       "      <td>10875.06</td>\n",
       "      <td>5.3</td>\n",
       "    </tr>\n",
       "    <tr>\n",
       "      <th>4</th>\n",
       "      <td>4</td>\n",
       "      <td>355-53-5943</td>\n",
       "      <td>A</td>\n",
       "      <td>Lagos</td>\n",
       "      <td>Member</td>\n",
       "      <td>Female</td>\n",
       "      <td>Electronic accessories</td>\n",
       "      <td>24782.4</td>\n",
       "      <td>6</td>\n",
       "      <td>7434.72</td>\n",
       "      <td>156129.12</td>\n",
       "      <td>2019-02-25</td>\n",
       "      <td>2023-03-02 14:36:00</td>\n",
       "      <td>Epay</td>\n",
       "      <td>148694.4</td>\n",
       "      <td>4.761905</td>\n",
       "      <td>7434.72</td>\n",
       "      <td>5.8</td>\n",
       "    </tr>\n",
       "  </tbody>\n",
       "</table>\n",
       "</div>"
      ],
      "text/plain": [
       "   Unnamed: 0   Invoice ID Branch   City Customer type  Gender  \\\n",
       "0           0  750-67-8428      A  Lagos        Member  Female   \n",
       "1           1  631-41-3108      A  Lagos        Normal    Male   \n",
       "2           2  123-19-1176      A  Lagos        Member    Male   \n",
       "3           3  373-73-7910      A  Lagos        Normal    Male   \n",
       "4           4  355-53-5943      A  Lagos        Member  Female   \n",
       "\n",
       "             Product line  Unit price  Quantity    Tax 5%      Total  \\\n",
       "0       Health and beauty     26888.4         7   9410.94  197629.74   \n",
       "1      Home and lifestyle     16678.8         7   5837.58  122589.18   \n",
       "2       Health and beauty     20959.2         8   8383.68  176057.28   \n",
       "3       Sports and travel     31071.6         7  10875.06  228376.26   \n",
       "4  Electronic accessories     24782.4         6   7434.72  156129.12   \n",
       "\n",
       "        Date                Time Payment      cogs  gross margin percentage  \\\n",
       "0 2019-01-05 2023-03-02 13:08:00    Epay  188218.8                 4.761905   \n",
       "1 2019-03-03 2023-03-02 13:23:00    Card  116751.6                 4.761905   \n",
       "2 2019-01-27 2023-03-02 20:33:00    Epay  167673.6                 4.761905   \n",
       "3 2019-02-08 2023-03-02 10:37:00    Epay  217501.2                 4.761905   \n",
       "4 2019-02-25 2023-03-02 14:36:00    Epay  148694.4                 4.761905   \n",
       "\n",
       "   gross income  Rating  \n",
       "0       9410.94     9.1  \n",
       "1       5837.58     7.4  \n",
       "2       8383.68     8.4  \n",
       "3      10875.06     5.3  \n",
       "4       7434.72     5.8  "
      ]
     },
     "execution_count": 12,
     "metadata": {},
     "output_type": "execute_result"
    }
   ],
   "source": [
    "df.head()"
   ]
  },
  {
   "cell_type": "code",
   "execution_count": 13,
   "id": "1d8ff8ed",
   "metadata": {},
   "outputs": [],
   "source": [
    "#Extract features from date & time\n"
   ]
  },
  {
   "cell_type": "code",
   "execution_count": 14,
   "id": "79154e07",
   "metadata": {},
   "outputs": [],
   "source": [
    "df['day'] = df['Date'].dt.day"
   ]
  },
  {
   "cell_type": "markdown",
   "id": "1280e135",
   "metadata": {},
   "source": [
    "df.head()"
   ]
  },
  {
   "cell_type": "code",
   "execution_count": 15,
   "id": "b0c8b6ed",
   "metadata": {},
   "outputs": [],
   "source": [
    "df['month'] = df['Date'].dt.month"
   ]
  },
  {
   "cell_type": "code",
   "execution_count": 16,
   "id": "dc123e2c",
   "metadata": {},
   "outputs": [
    {
     "data": {
      "text/html": [
       "<div>\n",
       "<style scoped>\n",
       "    .dataframe tbody tr th:only-of-type {\n",
       "        vertical-align: middle;\n",
       "    }\n",
       "\n",
       "    .dataframe tbody tr th {\n",
       "        vertical-align: top;\n",
       "    }\n",
       "\n",
       "    .dataframe thead th {\n",
       "        text-align: right;\n",
       "    }\n",
       "</style>\n",
       "<table border=\"1\" class=\"dataframe\">\n",
       "  <thead>\n",
       "    <tr style=\"text-align: right;\">\n",
       "      <th></th>\n",
       "      <th>Unnamed: 0</th>\n",
       "      <th>Invoice ID</th>\n",
       "      <th>Branch</th>\n",
       "      <th>City</th>\n",
       "      <th>Customer type</th>\n",
       "      <th>Gender</th>\n",
       "      <th>Product line</th>\n",
       "      <th>Unit price</th>\n",
       "      <th>Quantity</th>\n",
       "      <th>Tax 5%</th>\n",
       "      <th>Total</th>\n",
       "      <th>Date</th>\n",
       "      <th>Time</th>\n",
       "      <th>Payment</th>\n",
       "      <th>cogs</th>\n",
       "      <th>gross margin percentage</th>\n",
       "      <th>gross income</th>\n",
       "      <th>Rating</th>\n",
       "      <th>day</th>\n",
       "      <th>month</th>\n",
       "    </tr>\n",
       "  </thead>\n",
       "  <tbody>\n",
       "    <tr>\n",
       "      <th>0</th>\n",
       "      <td>0</td>\n",
       "      <td>750-67-8428</td>\n",
       "      <td>A</td>\n",
       "      <td>Lagos</td>\n",
       "      <td>Member</td>\n",
       "      <td>Female</td>\n",
       "      <td>Health and beauty</td>\n",
       "      <td>26888.4</td>\n",
       "      <td>7</td>\n",
       "      <td>9410.94</td>\n",
       "      <td>197629.74</td>\n",
       "      <td>2019-01-05</td>\n",
       "      <td>2023-03-02 13:08:00</td>\n",
       "      <td>Epay</td>\n",
       "      <td>188218.8</td>\n",
       "      <td>4.761905</td>\n",
       "      <td>9410.94</td>\n",
       "      <td>9.1</td>\n",
       "      <td>5</td>\n",
       "      <td>1</td>\n",
       "    </tr>\n",
       "    <tr>\n",
       "      <th>1</th>\n",
       "      <td>1</td>\n",
       "      <td>631-41-3108</td>\n",
       "      <td>A</td>\n",
       "      <td>Lagos</td>\n",
       "      <td>Normal</td>\n",
       "      <td>Male</td>\n",
       "      <td>Home and lifestyle</td>\n",
       "      <td>16678.8</td>\n",
       "      <td>7</td>\n",
       "      <td>5837.58</td>\n",
       "      <td>122589.18</td>\n",
       "      <td>2019-03-03</td>\n",
       "      <td>2023-03-02 13:23:00</td>\n",
       "      <td>Card</td>\n",
       "      <td>116751.6</td>\n",
       "      <td>4.761905</td>\n",
       "      <td>5837.58</td>\n",
       "      <td>7.4</td>\n",
       "      <td>3</td>\n",
       "      <td>3</td>\n",
       "    </tr>\n",
       "    <tr>\n",
       "      <th>2</th>\n",
       "      <td>2</td>\n",
       "      <td>123-19-1176</td>\n",
       "      <td>A</td>\n",
       "      <td>Lagos</td>\n",
       "      <td>Member</td>\n",
       "      <td>Male</td>\n",
       "      <td>Health and beauty</td>\n",
       "      <td>20959.2</td>\n",
       "      <td>8</td>\n",
       "      <td>8383.68</td>\n",
       "      <td>176057.28</td>\n",
       "      <td>2019-01-27</td>\n",
       "      <td>2023-03-02 20:33:00</td>\n",
       "      <td>Epay</td>\n",
       "      <td>167673.6</td>\n",
       "      <td>4.761905</td>\n",
       "      <td>8383.68</td>\n",
       "      <td>8.4</td>\n",
       "      <td>27</td>\n",
       "      <td>1</td>\n",
       "    </tr>\n",
       "    <tr>\n",
       "      <th>3</th>\n",
       "      <td>3</td>\n",
       "      <td>373-73-7910</td>\n",
       "      <td>A</td>\n",
       "      <td>Lagos</td>\n",
       "      <td>Normal</td>\n",
       "      <td>Male</td>\n",
       "      <td>Sports and travel</td>\n",
       "      <td>31071.6</td>\n",
       "      <td>7</td>\n",
       "      <td>10875.06</td>\n",
       "      <td>228376.26</td>\n",
       "      <td>2019-02-08</td>\n",
       "      <td>2023-03-02 10:37:00</td>\n",
       "      <td>Epay</td>\n",
       "      <td>217501.2</td>\n",
       "      <td>4.761905</td>\n",
       "      <td>10875.06</td>\n",
       "      <td>5.3</td>\n",
       "      <td>8</td>\n",
       "      <td>2</td>\n",
       "    </tr>\n",
       "    <tr>\n",
       "      <th>4</th>\n",
       "      <td>4</td>\n",
       "      <td>355-53-5943</td>\n",
       "      <td>A</td>\n",
       "      <td>Lagos</td>\n",
       "      <td>Member</td>\n",
       "      <td>Female</td>\n",
       "      <td>Electronic accessories</td>\n",
       "      <td>24782.4</td>\n",
       "      <td>6</td>\n",
       "      <td>7434.72</td>\n",
       "      <td>156129.12</td>\n",
       "      <td>2019-02-25</td>\n",
       "      <td>2023-03-02 14:36:00</td>\n",
       "      <td>Epay</td>\n",
       "      <td>148694.4</td>\n",
       "      <td>4.761905</td>\n",
       "      <td>7434.72</td>\n",
       "      <td>5.8</td>\n",
       "      <td>25</td>\n",
       "      <td>2</td>\n",
       "    </tr>\n",
       "  </tbody>\n",
       "</table>\n",
       "</div>"
      ],
      "text/plain": [
       "   Unnamed: 0   Invoice ID Branch   City Customer type  Gender  \\\n",
       "0           0  750-67-8428      A  Lagos        Member  Female   \n",
       "1           1  631-41-3108      A  Lagos        Normal    Male   \n",
       "2           2  123-19-1176      A  Lagos        Member    Male   \n",
       "3           3  373-73-7910      A  Lagos        Normal    Male   \n",
       "4           4  355-53-5943      A  Lagos        Member  Female   \n",
       "\n",
       "             Product line  Unit price  Quantity    Tax 5%      Total  \\\n",
       "0       Health and beauty     26888.4         7   9410.94  197629.74   \n",
       "1      Home and lifestyle     16678.8         7   5837.58  122589.18   \n",
       "2       Health and beauty     20959.2         8   8383.68  176057.28   \n",
       "3       Sports and travel     31071.6         7  10875.06  228376.26   \n",
       "4  Electronic accessories     24782.4         6   7434.72  156129.12   \n",
       "\n",
       "        Date                Time Payment      cogs  gross margin percentage  \\\n",
       "0 2019-01-05 2023-03-02 13:08:00    Epay  188218.8                 4.761905   \n",
       "1 2019-03-03 2023-03-02 13:23:00    Card  116751.6                 4.761905   \n",
       "2 2019-01-27 2023-03-02 20:33:00    Epay  167673.6                 4.761905   \n",
       "3 2019-02-08 2023-03-02 10:37:00    Epay  217501.2                 4.761905   \n",
       "4 2019-02-25 2023-03-02 14:36:00    Epay  148694.4                 4.761905   \n",
       "\n",
       "   gross income  Rating  day  month  \n",
       "0       9410.94     9.1    5      1  \n",
       "1       5837.58     7.4    3      3  \n",
       "2       8383.68     8.4   27      1  \n",
       "3      10875.06     5.3    8      2  \n",
       "4       7434.72     5.8   25      2  "
      ]
     },
     "execution_count": 16,
     "metadata": {},
     "output_type": "execute_result"
    }
   ],
   "source": [
    "df.head()"
   ]
  },
  {
   "cell_type": "code",
   "execution_count": 17,
   "id": "f1628da8",
   "metadata": {},
   "outputs": [],
   "source": [
    "df['year'] = df['Date'].dt.year"
   ]
  },
  {
   "cell_type": "code",
   "execution_count": 18,
   "id": "f4cfc25c",
   "metadata": {},
   "outputs": [
    {
     "data": {
      "text/html": [
       "<div>\n",
       "<style scoped>\n",
       "    .dataframe tbody tr th:only-of-type {\n",
       "        vertical-align: middle;\n",
       "    }\n",
       "\n",
       "    .dataframe tbody tr th {\n",
       "        vertical-align: top;\n",
       "    }\n",
       "\n",
       "    .dataframe thead th {\n",
       "        text-align: right;\n",
       "    }\n",
       "</style>\n",
       "<table border=\"1\" class=\"dataframe\">\n",
       "  <thead>\n",
       "    <tr style=\"text-align: right;\">\n",
       "      <th></th>\n",
       "      <th>Unnamed: 0</th>\n",
       "      <th>Invoice ID</th>\n",
       "      <th>Branch</th>\n",
       "      <th>City</th>\n",
       "      <th>Customer type</th>\n",
       "      <th>Gender</th>\n",
       "      <th>Product line</th>\n",
       "      <th>Unit price</th>\n",
       "      <th>Quantity</th>\n",
       "      <th>Tax 5%</th>\n",
       "      <th>...</th>\n",
       "      <th>Date</th>\n",
       "      <th>Time</th>\n",
       "      <th>Payment</th>\n",
       "      <th>cogs</th>\n",
       "      <th>gross margin percentage</th>\n",
       "      <th>gross income</th>\n",
       "      <th>Rating</th>\n",
       "      <th>day</th>\n",
       "      <th>month</th>\n",
       "      <th>year</th>\n",
       "    </tr>\n",
       "  </thead>\n",
       "  <tbody>\n",
       "    <tr>\n",
       "      <th>0</th>\n",
       "      <td>0</td>\n",
       "      <td>750-67-8428</td>\n",
       "      <td>A</td>\n",
       "      <td>Lagos</td>\n",
       "      <td>Member</td>\n",
       "      <td>Female</td>\n",
       "      <td>Health and beauty</td>\n",
       "      <td>26888.4</td>\n",
       "      <td>7</td>\n",
       "      <td>9410.94</td>\n",
       "      <td>...</td>\n",
       "      <td>2019-01-05</td>\n",
       "      <td>2023-03-02 13:08:00</td>\n",
       "      <td>Epay</td>\n",
       "      <td>188218.8</td>\n",
       "      <td>4.761905</td>\n",
       "      <td>9410.94</td>\n",
       "      <td>9.1</td>\n",
       "      <td>5</td>\n",
       "      <td>1</td>\n",
       "      <td>2019</td>\n",
       "    </tr>\n",
       "    <tr>\n",
       "      <th>1</th>\n",
       "      <td>1</td>\n",
       "      <td>631-41-3108</td>\n",
       "      <td>A</td>\n",
       "      <td>Lagos</td>\n",
       "      <td>Normal</td>\n",
       "      <td>Male</td>\n",
       "      <td>Home and lifestyle</td>\n",
       "      <td>16678.8</td>\n",
       "      <td>7</td>\n",
       "      <td>5837.58</td>\n",
       "      <td>...</td>\n",
       "      <td>2019-03-03</td>\n",
       "      <td>2023-03-02 13:23:00</td>\n",
       "      <td>Card</td>\n",
       "      <td>116751.6</td>\n",
       "      <td>4.761905</td>\n",
       "      <td>5837.58</td>\n",
       "      <td>7.4</td>\n",
       "      <td>3</td>\n",
       "      <td>3</td>\n",
       "      <td>2019</td>\n",
       "    </tr>\n",
       "    <tr>\n",
       "      <th>2</th>\n",
       "      <td>2</td>\n",
       "      <td>123-19-1176</td>\n",
       "      <td>A</td>\n",
       "      <td>Lagos</td>\n",
       "      <td>Member</td>\n",
       "      <td>Male</td>\n",
       "      <td>Health and beauty</td>\n",
       "      <td>20959.2</td>\n",
       "      <td>8</td>\n",
       "      <td>8383.68</td>\n",
       "      <td>...</td>\n",
       "      <td>2019-01-27</td>\n",
       "      <td>2023-03-02 20:33:00</td>\n",
       "      <td>Epay</td>\n",
       "      <td>167673.6</td>\n",
       "      <td>4.761905</td>\n",
       "      <td>8383.68</td>\n",
       "      <td>8.4</td>\n",
       "      <td>27</td>\n",
       "      <td>1</td>\n",
       "      <td>2019</td>\n",
       "    </tr>\n",
       "    <tr>\n",
       "      <th>3</th>\n",
       "      <td>3</td>\n",
       "      <td>373-73-7910</td>\n",
       "      <td>A</td>\n",
       "      <td>Lagos</td>\n",
       "      <td>Normal</td>\n",
       "      <td>Male</td>\n",
       "      <td>Sports and travel</td>\n",
       "      <td>31071.6</td>\n",
       "      <td>7</td>\n",
       "      <td>10875.06</td>\n",
       "      <td>...</td>\n",
       "      <td>2019-02-08</td>\n",
       "      <td>2023-03-02 10:37:00</td>\n",
       "      <td>Epay</td>\n",
       "      <td>217501.2</td>\n",
       "      <td>4.761905</td>\n",
       "      <td>10875.06</td>\n",
       "      <td>5.3</td>\n",
       "      <td>8</td>\n",
       "      <td>2</td>\n",
       "      <td>2019</td>\n",
       "    </tr>\n",
       "    <tr>\n",
       "      <th>4</th>\n",
       "      <td>4</td>\n",
       "      <td>355-53-5943</td>\n",
       "      <td>A</td>\n",
       "      <td>Lagos</td>\n",
       "      <td>Member</td>\n",
       "      <td>Female</td>\n",
       "      <td>Electronic accessories</td>\n",
       "      <td>24782.4</td>\n",
       "      <td>6</td>\n",
       "      <td>7434.72</td>\n",
       "      <td>...</td>\n",
       "      <td>2019-02-25</td>\n",
       "      <td>2023-03-02 14:36:00</td>\n",
       "      <td>Epay</td>\n",
       "      <td>148694.4</td>\n",
       "      <td>4.761905</td>\n",
       "      <td>7434.72</td>\n",
       "      <td>5.8</td>\n",
       "      <td>25</td>\n",
       "      <td>2</td>\n",
       "      <td>2019</td>\n",
       "    </tr>\n",
       "  </tbody>\n",
       "</table>\n",
       "<p>5 rows × 21 columns</p>\n",
       "</div>"
      ],
      "text/plain": [
       "   Unnamed: 0   Invoice ID Branch   City Customer type  Gender  \\\n",
       "0           0  750-67-8428      A  Lagos        Member  Female   \n",
       "1           1  631-41-3108      A  Lagos        Normal    Male   \n",
       "2           2  123-19-1176      A  Lagos        Member    Male   \n",
       "3           3  373-73-7910      A  Lagos        Normal    Male   \n",
       "4           4  355-53-5943      A  Lagos        Member  Female   \n",
       "\n",
       "             Product line  Unit price  Quantity    Tax 5%  ...       Date  \\\n",
       "0       Health and beauty     26888.4         7   9410.94  ... 2019-01-05   \n",
       "1      Home and lifestyle     16678.8         7   5837.58  ... 2019-03-03   \n",
       "2       Health and beauty     20959.2         8   8383.68  ... 2019-01-27   \n",
       "3       Sports and travel     31071.6         7  10875.06  ... 2019-02-08   \n",
       "4  Electronic accessories     24782.4         6   7434.72  ... 2019-02-25   \n",
       "\n",
       "                 Time Payment      cogs  gross margin percentage  \\\n",
       "0 2023-03-02 13:08:00    Epay  188218.8                 4.761905   \n",
       "1 2023-03-02 13:23:00    Card  116751.6                 4.761905   \n",
       "2 2023-03-02 20:33:00    Epay  167673.6                 4.761905   \n",
       "3 2023-03-02 10:37:00    Epay  217501.2                 4.761905   \n",
       "4 2023-03-02 14:36:00    Epay  148694.4                 4.761905   \n",
       "\n",
       "   gross income  Rating  day  month  year  \n",
       "0       9410.94     9.1    5      1  2019  \n",
       "1       5837.58     7.4    3      3  2019  \n",
       "2       8383.68     8.4   27      1  2019  \n",
       "3      10875.06     5.3    8      2  2019  \n",
       "4       7434.72     5.8   25      2  2019  \n",
       "\n",
       "[5 rows x 21 columns]"
      ]
     },
     "execution_count": 18,
     "metadata": {},
     "output_type": "execute_result"
    }
   ],
   "source": [
    "df.head()"
   ]
  },
  {
   "cell_type": "code",
   "execution_count": 19,
   "id": "458d83be",
   "metadata": {},
   "outputs": [],
   "source": [
    "df['hour'] = df['Date'].dt.hour"
   ]
  },
  {
   "cell_type": "code",
   "execution_count": 20,
   "id": "c3db5ec6",
   "metadata": {},
   "outputs": [
    {
     "data": {
      "text/html": [
       "<div>\n",
       "<style scoped>\n",
       "    .dataframe tbody tr th:only-of-type {\n",
       "        vertical-align: middle;\n",
       "    }\n",
       "\n",
       "    .dataframe tbody tr th {\n",
       "        vertical-align: top;\n",
       "    }\n",
       "\n",
       "    .dataframe thead th {\n",
       "        text-align: right;\n",
       "    }\n",
       "</style>\n",
       "<table border=\"1\" class=\"dataframe\">\n",
       "  <thead>\n",
       "    <tr style=\"text-align: right;\">\n",
       "      <th></th>\n",
       "      <th>Unnamed: 0</th>\n",
       "      <th>Invoice ID</th>\n",
       "      <th>Branch</th>\n",
       "      <th>City</th>\n",
       "      <th>Customer type</th>\n",
       "      <th>Gender</th>\n",
       "      <th>Product line</th>\n",
       "      <th>Unit price</th>\n",
       "      <th>Quantity</th>\n",
       "      <th>Tax 5%</th>\n",
       "      <th>...</th>\n",
       "      <th>Time</th>\n",
       "      <th>Payment</th>\n",
       "      <th>cogs</th>\n",
       "      <th>gross margin percentage</th>\n",
       "      <th>gross income</th>\n",
       "      <th>Rating</th>\n",
       "      <th>day</th>\n",
       "      <th>month</th>\n",
       "      <th>year</th>\n",
       "      <th>hour</th>\n",
       "    </tr>\n",
       "  </thead>\n",
       "  <tbody>\n",
       "    <tr>\n",
       "      <th>0</th>\n",
       "      <td>0</td>\n",
       "      <td>750-67-8428</td>\n",
       "      <td>A</td>\n",
       "      <td>Lagos</td>\n",
       "      <td>Member</td>\n",
       "      <td>Female</td>\n",
       "      <td>Health and beauty</td>\n",
       "      <td>26888.4</td>\n",
       "      <td>7</td>\n",
       "      <td>9410.94</td>\n",
       "      <td>...</td>\n",
       "      <td>2023-03-02 13:08:00</td>\n",
       "      <td>Epay</td>\n",
       "      <td>188218.8</td>\n",
       "      <td>4.761905</td>\n",
       "      <td>9410.94</td>\n",
       "      <td>9.1</td>\n",
       "      <td>5</td>\n",
       "      <td>1</td>\n",
       "      <td>2019</td>\n",
       "      <td>0</td>\n",
       "    </tr>\n",
       "    <tr>\n",
       "      <th>1</th>\n",
       "      <td>1</td>\n",
       "      <td>631-41-3108</td>\n",
       "      <td>A</td>\n",
       "      <td>Lagos</td>\n",
       "      <td>Normal</td>\n",
       "      <td>Male</td>\n",
       "      <td>Home and lifestyle</td>\n",
       "      <td>16678.8</td>\n",
       "      <td>7</td>\n",
       "      <td>5837.58</td>\n",
       "      <td>...</td>\n",
       "      <td>2023-03-02 13:23:00</td>\n",
       "      <td>Card</td>\n",
       "      <td>116751.6</td>\n",
       "      <td>4.761905</td>\n",
       "      <td>5837.58</td>\n",
       "      <td>7.4</td>\n",
       "      <td>3</td>\n",
       "      <td>3</td>\n",
       "      <td>2019</td>\n",
       "      <td>0</td>\n",
       "    </tr>\n",
       "    <tr>\n",
       "      <th>2</th>\n",
       "      <td>2</td>\n",
       "      <td>123-19-1176</td>\n",
       "      <td>A</td>\n",
       "      <td>Lagos</td>\n",
       "      <td>Member</td>\n",
       "      <td>Male</td>\n",
       "      <td>Health and beauty</td>\n",
       "      <td>20959.2</td>\n",
       "      <td>8</td>\n",
       "      <td>8383.68</td>\n",
       "      <td>...</td>\n",
       "      <td>2023-03-02 20:33:00</td>\n",
       "      <td>Epay</td>\n",
       "      <td>167673.6</td>\n",
       "      <td>4.761905</td>\n",
       "      <td>8383.68</td>\n",
       "      <td>8.4</td>\n",
       "      <td>27</td>\n",
       "      <td>1</td>\n",
       "      <td>2019</td>\n",
       "      <td>0</td>\n",
       "    </tr>\n",
       "    <tr>\n",
       "      <th>3</th>\n",
       "      <td>3</td>\n",
       "      <td>373-73-7910</td>\n",
       "      <td>A</td>\n",
       "      <td>Lagos</td>\n",
       "      <td>Normal</td>\n",
       "      <td>Male</td>\n",
       "      <td>Sports and travel</td>\n",
       "      <td>31071.6</td>\n",
       "      <td>7</td>\n",
       "      <td>10875.06</td>\n",
       "      <td>...</td>\n",
       "      <td>2023-03-02 10:37:00</td>\n",
       "      <td>Epay</td>\n",
       "      <td>217501.2</td>\n",
       "      <td>4.761905</td>\n",
       "      <td>10875.06</td>\n",
       "      <td>5.3</td>\n",
       "      <td>8</td>\n",
       "      <td>2</td>\n",
       "      <td>2019</td>\n",
       "      <td>0</td>\n",
       "    </tr>\n",
       "    <tr>\n",
       "      <th>4</th>\n",
       "      <td>4</td>\n",
       "      <td>355-53-5943</td>\n",
       "      <td>A</td>\n",
       "      <td>Lagos</td>\n",
       "      <td>Member</td>\n",
       "      <td>Female</td>\n",
       "      <td>Electronic accessories</td>\n",
       "      <td>24782.4</td>\n",
       "      <td>6</td>\n",
       "      <td>7434.72</td>\n",
       "      <td>...</td>\n",
       "      <td>2023-03-02 14:36:00</td>\n",
       "      <td>Epay</td>\n",
       "      <td>148694.4</td>\n",
       "      <td>4.761905</td>\n",
       "      <td>7434.72</td>\n",
       "      <td>5.8</td>\n",
       "      <td>25</td>\n",
       "      <td>2</td>\n",
       "      <td>2019</td>\n",
       "      <td>0</td>\n",
       "    </tr>\n",
       "  </tbody>\n",
       "</table>\n",
       "<p>5 rows × 22 columns</p>\n",
       "</div>"
      ],
      "text/plain": [
       "   Unnamed: 0   Invoice ID Branch   City Customer type  Gender  \\\n",
       "0           0  750-67-8428      A  Lagos        Member  Female   \n",
       "1           1  631-41-3108      A  Lagos        Normal    Male   \n",
       "2           2  123-19-1176      A  Lagos        Member    Male   \n",
       "3           3  373-73-7910      A  Lagos        Normal    Male   \n",
       "4           4  355-53-5943      A  Lagos        Member  Female   \n",
       "\n",
       "             Product line  Unit price  Quantity    Tax 5%  ...  \\\n",
       "0       Health and beauty     26888.4         7   9410.94  ...   \n",
       "1      Home and lifestyle     16678.8         7   5837.58  ...   \n",
       "2       Health and beauty     20959.2         8   8383.68  ...   \n",
       "3       Sports and travel     31071.6         7  10875.06  ...   \n",
       "4  Electronic accessories     24782.4         6   7434.72  ...   \n",
       "\n",
       "                 Time Payment      cogs gross margin percentage  gross income  \\\n",
       "0 2023-03-02 13:08:00    Epay  188218.8                4.761905       9410.94   \n",
       "1 2023-03-02 13:23:00    Card  116751.6                4.761905       5837.58   \n",
       "2 2023-03-02 20:33:00    Epay  167673.6                4.761905       8383.68   \n",
       "3 2023-03-02 10:37:00    Epay  217501.2                4.761905      10875.06   \n",
       "4 2023-03-02 14:36:00    Epay  148694.4                4.761905       7434.72   \n",
       "\n",
       "   Rating  day  month  year  hour  \n",
       "0     9.1    5      1  2019     0  \n",
       "1     7.4    3      3  2019     0  \n",
       "2     8.4   27      1  2019     0  \n",
       "3     5.3    8      2  2019     0  \n",
       "4     5.8   25      2  2019     0  \n",
       "\n",
       "[5 rows x 22 columns]"
      ]
     },
     "execution_count": 20,
     "metadata": {},
     "output_type": "execute_result"
    }
   ],
   "source": [
    "df.head()"
   ]
  },
  {
   "cell_type": "code",
   "execution_count": 21,
   "id": "23ca4780",
   "metadata": {},
   "outputs": [],
   "source": [
    "df['Minute'] = df['Date'].dt.minute"
   ]
  },
  {
   "cell_type": "code",
   "execution_count": 22,
   "id": "0078b0cb",
   "metadata": {},
   "outputs": [
    {
     "data": {
      "text/html": [
       "<div>\n",
       "<style scoped>\n",
       "    .dataframe tbody tr th:only-of-type {\n",
       "        vertical-align: middle;\n",
       "    }\n",
       "\n",
       "    .dataframe tbody tr th {\n",
       "        vertical-align: top;\n",
       "    }\n",
       "\n",
       "    .dataframe thead th {\n",
       "        text-align: right;\n",
       "    }\n",
       "</style>\n",
       "<table border=\"1\" class=\"dataframe\">\n",
       "  <thead>\n",
       "    <tr style=\"text-align: right;\">\n",
       "      <th></th>\n",
       "      <th>Unnamed: 0</th>\n",
       "      <th>Invoice ID</th>\n",
       "      <th>Branch</th>\n",
       "      <th>City</th>\n",
       "      <th>Customer type</th>\n",
       "      <th>Gender</th>\n",
       "      <th>Product line</th>\n",
       "      <th>Unit price</th>\n",
       "      <th>Quantity</th>\n",
       "      <th>Tax 5%</th>\n",
       "      <th>...</th>\n",
       "      <th>Payment</th>\n",
       "      <th>cogs</th>\n",
       "      <th>gross margin percentage</th>\n",
       "      <th>gross income</th>\n",
       "      <th>Rating</th>\n",
       "      <th>day</th>\n",
       "      <th>month</th>\n",
       "      <th>year</th>\n",
       "      <th>hour</th>\n",
       "      <th>Minute</th>\n",
       "    </tr>\n",
       "  </thead>\n",
       "  <tbody>\n",
       "    <tr>\n",
       "      <th>0</th>\n",
       "      <td>0</td>\n",
       "      <td>750-67-8428</td>\n",
       "      <td>A</td>\n",
       "      <td>Lagos</td>\n",
       "      <td>Member</td>\n",
       "      <td>Female</td>\n",
       "      <td>Health and beauty</td>\n",
       "      <td>26888.4</td>\n",
       "      <td>7</td>\n",
       "      <td>9410.94</td>\n",
       "      <td>...</td>\n",
       "      <td>Epay</td>\n",
       "      <td>188218.8</td>\n",
       "      <td>4.761905</td>\n",
       "      <td>9410.94</td>\n",
       "      <td>9.1</td>\n",
       "      <td>5</td>\n",
       "      <td>1</td>\n",
       "      <td>2019</td>\n",
       "      <td>0</td>\n",
       "      <td>0</td>\n",
       "    </tr>\n",
       "    <tr>\n",
       "      <th>1</th>\n",
       "      <td>1</td>\n",
       "      <td>631-41-3108</td>\n",
       "      <td>A</td>\n",
       "      <td>Lagos</td>\n",
       "      <td>Normal</td>\n",
       "      <td>Male</td>\n",
       "      <td>Home and lifestyle</td>\n",
       "      <td>16678.8</td>\n",
       "      <td>7</td>\n",
       "      <td>5837.58</td>\n",
       "      <td>...</td>\n",
       "      <td>Card</td>\n",
       "      <td>116751.6</td>\n",
       "      <td>4.761905</td>\n",
       "      <td>5837.58</td>\n",
       "      <td>7.4</td>\n",
       "      <td>3</td>\n",
       "      <td>3</td>\n",
       "      <td>2019</td>\n",
       "      <td>0</td>\n",
       "      <td>0</td>\n",
       "    </tr>\n",
       "    <tr>\n",
       "      <th>2</th>\n",
       "      <td>2</td>\n",
       "      <td>123-19-1176</td>\n",
       "      <td>A</td>\n",
       "      <td>Lagos</td>\n",
       "      <td>Member</td>\n",
       "      <td>Male</td>\n",
       "      <td>Health and beauty</td>\n",
       "      <td>20959.2</td>\n",
       "      <td>8</td>\n",
       "      <td>8383.68</td>\n",
       "      <td>...</td>\n",
       "      <td>Epay</td>\n",
       "      <td>167673.6</td>\n",
       "      <td>4.761905</td>\n",
       "      <td>8383.68</td>\n",
       "      <td>8.4</td>\n",
       "      <td>27</td>\n",
       "      <td>1</td>\n",
       "      <td>2019</td>\n",
       "      <td>0</td>\n",
       "      <td>0</td>\n",
       "    </tr>\n",
       "    <tr>\n",
       "      <th>3</th>\n",
       "      <td>3</td>\n",
       "      <td>373-73-7910</td>\n",
       "      <td>A</td>\n",
       "      <td>Lagos</td>\n",
       "      <td>Normal</td>\n",
       "      <td>Male</td>\n",
       "      <td>Sports and travel</td>\n",
       "      <td>31071.6</td>\n",
       "      <td>7</td>\n",
       "      <td>10875.06</td>\n",
       "      <td>...</td>\n",
       "      <td>Epay</td>\n",
       "      <td>217501.2</td>\n",
       "      <td>4.761905</td>\n",
       "      <td>10875.06</td>\n",
       "      <td>5.3</td>\n",
       "      <td>8</td>\n",
       "      <td>2</td>\n",
       "      <td>2019</td>\n",
       "      <td>0</td>\n",
       "      <td>0</td>\n",
       "    </tr>\n",
       "    <tr>\n",
       "      <th>4</th>\n",
       "      <td>4</td>\n",
       "      <td>355-53-5943</td>\n",
       "      <td>A</td>\n",
       "      <td>Lagos</td>\n",
       "      <td>Member</td>\n",
       "      <td>Female</td>\n",
       "      <td>Electronic accessories</td>\n",
       "      <td>24782.4</td>\n",
       "      <td>6</td>\n",
       "      <td>7434.72</td>\n",
       "      <td>...</td>\n",
       "      <td>Epay</td>\n",
       "      <td>148694.4</td>\n",
       "      <td>4.761905</td>\n",
       "      <td>7434.72</td>\n",
       "      <td>5.8</td>\n",
       "      <td>25</td>\n",
       "      <td>2</td>\n",
       "      <td>2019</td>\n",
       "      <td>0</td>\n",
       "      <td>0</td>\n",
       "    </tr>\n",
       "  </tbody>\n",
       "</table>\n",
       "<p>5 rows × 23 columns</p>\n",
       "</div>"
      ],
      "text/plain": [
       "   Unnamed: 0   Invoice ID Branch   City Customer type  Gender  \\\n",
       "0           0  750-67-8428      A  Lagos        Member  Female   \n",
       "1           1  631-41-3108      A  Lagos        Normal    Male   \n",
       "2           2  123-19-1176      A  Lagos        Member    Male   \n",
       "3           3  373-73-7910      A  Lagos        Normal    Male   \n",
       "4           4  355-53-5943      A  Lagos        Member  Female   \n",
       "\n",
       "             Product line  Unit price  Quantity    Tax 5%  ...  Payment  \\\n",
       "0       Health and beauty     26888.4         7   9410.94  ...     Epay   \n",
       "1      Home and lifestyle     16678.8         7   5837.58  ...     Card   \n",
       "2       Health and beauty     20959.2         8   8383.68  ...     Epay   \n",
       "3       Sports and travel     31071.6         7  10875.06  ...     Epay   \n",
       "4  Electronic accessories     24782.4         6   7434.72  ...     Epay   \n",
       "\n",
       "       cogs gross margin percentage gross income  Rating  day  month  year  \\\n",
       "0  188218.8                4.761905      9410.94     9.1    5      1  2019   \n",
       "1  116751.6                4.761905      5837.58     7.4    3      3  2019   \n",
       "2  167673.6                4.761905      8383.68     8.4   27      1  2019   \n",
       "3  217501.2                4.761905     10875.06     5.3    8      2  2019   \n",
       "4  148694.4                4.761905      7434.72     5.8   25      2  2019   \n",
       "\n",
       "   hour  Minute  \n",
       "0     0       0  \n",
       "1     0       0  \n",
       "2     0       0  \n",
       "3     0       0  \n",
       "4     0       0  \n",
       "\n",
       "[5 rows x 23 columns]"
      ]
     },
     "execution_count": 22,
     "metadata": {},
     "output_type": "execute_result"
    }
   ],
   "source": [
    "df.head()"
   ]
  },
  {
   "cell_type": "code",
   "execution_count": 23,
   "id": "d5ee1db5",
   "metadata": {},
   "outputs": [
    {
     "data": {
      "text/plain": [
       "Unnamed: 0                  340\n",
       "Invoice ID                 1000\n",
       "Branch                        3\n",
       "City                          3\n",
       "Customer type                 2\n",
       "Gender                        2\n",
       "Product line                  6\n",
       "Unit price                  943\n",
       "Quantity                     10\n",
       "Tax 5%                      990\n",
       "Total                       990\n",
       "Date                         89\n",
       "Time                        506\n",
       "Payment                       3\n",
       "cogs                        990\n",
       "gross margin percentage       1\n",
       "gross income                990\n",
       "Rating                       61\n",
       "day                          31\n",
       "month                         3\n",
       "year                          1\n",
       "hour                          1\n",
       "Minute                        1\n",
       "dtype: int64"
      ]
     },
     "execution_count": 23,
     "metadata": {},
     "output_type": "execute_result"
    }
   ],
   "source": [
    "df.nunique()"
   ]
  },
  {
   "cell_type": "code",
   "execution_count": 24,
   "id": "194e69de",
   "metadata": {},
   "outputs": [],
   "source": [
    "df_hour = pd.Series(df.nunique())"
   ]
  },
  {
   "cell_type": "code",
   "execution_count": 25,
   "id": "3f8951f0",
   "metadata": {},
   "outputs": [
    {
     "data": {
      "text/plain": [
       "Unnamed: 0                  340\n",
       "Invoice ID                 1000\n",
       "Branch                        3\n",
       "City                          3\n",
       "Customer type                 2\n",
       "Gender                        2\n",
       "Product line                  6\n",
       "Unit price                  943\n",
       "Quantity                     10\n",
       "Tax 5%                      990\n",
       "Total                       990\n",
       "Date                         89\n",
       "Time                        506\n",
       "Payment                       3\n",
       "cogs                        990\n",
       "gross margin percentage       1\n",
       "gross income                990\n",
       "Rating                       61\n",
       "day                          31\n",
       "month                         3\n",
       "year                          1\n",
       "hour                          1\n",
       "Minute                        1\n",
       "dtype: int64"
      ]
     },
     "execution_count": 25,
     "metadata": {},
     "output_type": "execute_result"
    }
   ],
   "source": [
    "df_hour"
   ]
  },
  {
   "cell_type": "code",
   "execution_count": 26,
   "id": "5c9bd0e0",
   "metadata": {},
   "outputs": [
    {
     "data": {
      "text/plain": [
       "Unnamed: 0                  340\n",
       "Invoice ID                 1000\n",
       "Branch                        3\n",
       "City                          3\n",
       "Customer type                 2\n",
       "Gender                        2\n",
       "Product line                  6\n",
       "Unit price                  943\n",
       "Quantity                     10\n",
       "Tax 5%                      990\n",
       "Total                       990\n",
       "Date                         89\n",
       "Time                        506\n",
       "Payment                       3\n",
       "cogs                        990\n",
       "gross margin percentage       1\n",
       "gross income                990\n",
       "Rating                       61\n",
       "day                          31\n",
       "month                         3\n",
       "year                          1\n",
       "hour                          1\n",
       "Minute                        1\n",
       "dtype: int64"
      ]
     },
     "execution_count": 26,
     "metadata": {},
     "output_type": "execute_result"
    }
   ],
   "source": [
    "df.nunique(axis = 'columns' == 22)"
   ]
  },
  {
   "cell_type": "code",
   "execution_count": 27,
   "id": "496b249f",
   "metadata": {},
   "outputs": [
    {
     "data": {
      "text/plain": [
       "0      20\n",
       "1      20\n",
       "2      21\n",
       "3      21\n",
       "4      21\n",
       "       ..\n",
       "995    21\n",
       "996    21\n",
       "997    21\n",
       "998    20\n",
       "999    19\n",
       "Length: 1000, dtype: int64"
      ]
     },
     "execution_count": 27,
     "metadata": {},
     "output_type": "execute_result"
    }
   ],
   "source": [
    "df.nunique(axis = 'columns')"
   ]
  },
  {
   "cell_type": "code",
   "execution_count": 28,
   "id": "72fca3a9",
   "metadata": {},
   "outputs": [
    {
     "data": {
      "text/plain": [
       "array(['2023-03-02T13:08:00.000000000', '2023-03-02T13:23:00.000000000',\n",
       "       '2023-03-02T20:33:00.000000000', '2023-03-02T10:37:00.000000000',\n",
       "       '2023-03-02T14:36:00.000000000', '2023-03-02T17:15:00.000000000',\n",
       "       '2023-03-02T10:25:00.000000000', '2023-03-02T16:48:00.000000000',\n",
       "       '2023-03-02T19:21:00.000000000', '2023-03-02T11:03:00.000000000',\n",
       "       '2023-03-02T10:39:00.000000000', '2023-03-02T18:00:00.000000000',\n",
       "       '2023-03-02T11:15:00.000000000', '2023-03-02T17:36:00.000000000',\n",
       "       '2023-03-02T19:20:00.000000000', '2023-03-02T12:17:00.000000000',\n",
       "       '2023-03-02T15:36:00.000000000', '2023-03-02T10:12:00.000000000',\n",
       "       '2023-03-02T19:15:00.000000000', '2023-03-02T17:17:00.000000000',\n",
       "       '2023-03-02T15:10:00.000000000', '2023-03-02T11:26:00.000000000',\n",
       "       '2023-03-02T11:28:00.000000000', '2023-03-02T15:55:00.000000000',\n",
       "       '2023-03-02T12:27:00.000000000', '2023-03-02T16:40:00.000000000',\n",
       "       '2023-03-02T10:04:00.000000000', '2023-03-02T18:50:00.000000000',\n",
       "       '2023-03-02T10:55:00.000000000', '2023-03-02T15:48:00.000000000',\n",
       "       '2023-03-02T20:35:00.000000000', '2023-03-02T16:57:00.000000000',\n",
       "       '2023-03-02T16:42:00.000000000', '2023-03-02T20:38:00.000000000',\n",
       "       '2023-03-02T10:16:00.000000000', '2023-03-02T16:44:00.000000000',\n",
       "       '2023-03-02T14:50:00.000000000', '2023-03-02T20:19:00.000000000',\n",
       "       '2023-03-02T20:07:00.000000000', '2023-03-02T20:48:00.000000000',\n",
       "       '2023-03-02T17:03:00.000000000', '2023-03-02T18:44:00.000000000',\n",
       "       '2023-03-02T13:26:00.000000000', '2023-03-02T20:34:00.000000000',\n",
       "       '2023-03-02T20:59:00.000000000', '2023-03-02T15:39:00.000000000',\n",
       "       '2023-03-02T19:25:00.000000000', '2023-03-02T16:37:00.000000000',\n",
       "       '2023-03-02T12:28:00.000000000', '2023-03-02T13:48:00.000000000',\n",
       "       '2023-03-02T11:56:00.000000000', '2023-03-02T16:21:00.000000000',\n",
       "       '2023-03-02T19:44:00.000000000', '2023-03-02T16:20:00.000000000',\n",
       "       '2023-03-02T16:31:00.000000000', '2023-03-02T11:36:00.000000000',\n",
       "       '2023-03-02T17:01:00.000000000', '2023-03-02T19:16:00.000000000',\n",
       "       '2023-03-02T11:19:00.000000000', '2023-03-02T12:50:00.000000000',\n",
       "       '2023-03-02T11:30:00.000000000', '2023-03-02T10:13:00.000000000',\n",
       "       '2023-03-02T12:02:00.000000000', '2023-03-02T20:24:00.000000000',\n",
       "       '2023-03-02T15:05:00.000000000', '2023-03-02T16:55:00.000000000',\n",
       "       '2023-03-02T15:56:00.000000000', '2023-03-02T12:55:00.000000000',\n",
       "       '2023-03-02T18:24:00.000000000', '2023-03-02T18:09:00.000000000',\n",
       "       '2023-03-02T11:20:00.000000000', '2023-03-02T16:49:00.000000000',\n",
       "       '2023-03-02T12:01:00.000000000', '2023-03-02T11:25:00.000000000',\n",
       "       '2023-03-02T14:47:00.000000000', '2023-03-02T14:04:00.000000000',\n",
       "       '2023-03-02T16:11:00.000000000', '2023-03-02T11:22:00.000000000',\n",
       "       '2023-03-02T11:23:00.000000000', '2023-03-02T10:46:00.000000000',\n",
       "       '2023-03-02T12:38:00.000000000', '2023-03-02T13:25:00.000000000',\n",
       "       '2023-03-02T11:00:00.000000000', '2023-03-02T12:43:00.000000000',\n",
       "       '2023-03-02T16:05:00.000000000', '2023-03-02T13:34:00.000000000',\n",
       "       '2023-03-02T11:44:00.000000000', '2023-03-02T15:51:00.000000000',\n",
       "       '2023-03-02T19:57:00.000000000', '2023-03-02T11:09:00.000000000',\n",
       "       '2023-03-02T15:02:00.000000000', '2023-03-02T14:21:00.000000000',\n",
       "       '2023-03-02T14:38:00.000000000', '2023-03-02T20:29:00.000000000',\n",
       "       '2023-03-02T10:00:00.000000000', '2023-03-02T14:16:00.000000000',\n",
       "       '2023-03-02T15:54:00.000000000', '2023-03-02T20:14:00.000000000',\n",
       "       '2023-03-02T13:22:00.000000000', '2023-03-02T17:09:00.000000000',\n",
       "       '2023-03-02T10:40:00.000000000', '2023-03-02T17:43:00.000000000',\n",
       "       '2023-03-02T10:08:00.000000000', '2023-03-02T13:12:00.000000000',\n",
       "       '2023-03-02T18:03:00.000000000', '2023-03-02T13:21:00.000000000',\n",
       "       '2023-03-02T12:48:00.000000000', '2023-03-02T19:09:00.000000000',\n",
       "       '2023-03-02T13:07:00.000000000', '2023-03-02T17:27:00.000000000',\n",
       "       '2023-03-02T15:59:00.000000000', '2023-03-02T11:21:00.000000000',\n",
       "       '2023-03-02T10:17:00.000000000', '2023-03-02T15:49:00.000000000',\n",
       "       '2023-03-02T15:04:00.000000000', '2023-03-02T16:10:00.000000000',\n",
       "       '2023-03-02T12:14:00.000000000', '2023-03-02T17:38:00.000000000',\n",
       "       '2023-03-02T18:22:00.000000000', '2023-03-02T11:12:00.000000000',\n",
       "       '2023-03-02T17:44:00.000000000', '2023-03-02T10:29:00.000000000',\n",
       "       '2023-03-02T12:46:00.000000000', '2023-03-02T16:47:00.000000000',\n",
       "       '2023-03-02T12:52:00.000000000', '2023-03-02T13:58:00.000000000',\n",
       "       '2023-03-02T18:27:00.000000000', '2023-03-02T12:45:00.000000000',\n",
       "       '2023-03-02T10:36:00.000000000', '2023-03-02T20:36:00.000000000',\n",
       "       '2023-03-02T15:28:00.000000000', '2023-03-02T19:07:00.000000000',\n",
       "       '2023-03-02T19:48:00.000000000', '2023-03-02T18:55:00.000000000',\n",
       "       '2023-03-02T19:36:00.000000000', '2023-03-02T10:23:00.000000000',\n",
       "       '2023-03-02T18:01:00.000000000', '2023-03-02T10:53:00.000000000',\n",
       "       '2023-03-02T19:14:00.000000000', '2023-03-02T15:37:00.000000000',\n",
       "       '2023-03-02T15:42:00.000000000', '2023-03-02T10:43:00.000000000',\n",
       "       '2023-03-02T15:09:00.000000000', '2023-03-02T13:47:00.000000000',\n",
       "       '2023-03-02T15:31:00.000000000', '2023-03-02T11:40:00.000000000',\n",
       "       '2023-03-02T18:31:00.000000000', '2023-03-02T17:04:00.000000000',\n",
       "       '2023-03-02T13:05:00.000000000', '2023-03-02T18:59:00.000000000',\n",
       "       '2023-03-02T18:20:00.000000000', '2023-03-02T15:47:00.000000000',\n",
       "       '2023-03-02T20:54:00.000000000', '2023-03-02T17:29:00.000000000',\n",
       "       '2023-03-02T18:05:00.000000000', '2023-03-02T12:07:00.000000000',\n",
       "       '2023-03-02T18:14:00.000000000', '2023-03-02T13:55:00.000000000',\n",
       "       '2023-03-02T16:03:00.000000000', '2023-03-02T19:41:00.000000000',\n",
       "       '2023-03-02T19:01:00.000000000', '2023-03-02T18:04:00.000000000',\n",
       "       '2023-03-02T13:28:00.000000000', '2023-03-02T17:16:00.000000000',\n",
       "       '2023-03-02T16:23:00.000000000', '2023-03-02T12:08:00.000000000',\n",
       "       '2023-03-02T10:28:00.000000000', '2023-03-02T18:51:00.000000000',\n",
       "       '2023-03-02T15:24:00.000000000', '2023-03-02T16:54:00.000000000',\n",
       "       '2023-03-02T15:08:00.000000000', '2023-03-02T13:01:00.000000000',\n",
       "       '2023-03-02T19:35:00.000000000', '2023-03-02T14:33:00.000000000',\n",
       "       '2023-03-02T13:54:00.000000000', '2023-03-02T19:54:00.000000000',\n",
       "       '2023-03-02T13:53:00.000000000', '2023-03-02T14:03:00.000000000',\n",
       "       '2023-03-02T16:38:00.000000000', '2023-03-02T12:23:00.000000000',\n",
       "       '2023-03-02T14:13:00.000000000', '2023-03-02T11:51:00.000000000',\n",
       "       '2023-03-02T13:30:00.000000000', '2023-03-02T14:22:00.000000000',\n",
       "       '2023-03-02T12:56:00.000000000', '2023-03-02T12:20:00.000000000',\n",
       "       '2023-03-02T10:18:00.000000000', '2023-03-02T12:24:00.000000000',\n",
       "       '2023-03-02T15:30:00.000000000', '2023-03-02T12:37:00.000000000',\n",
       "       '2023-03-02T14:19:00.000000000', '2023-03-02T18:19:00.000000000',\n",
       "       '2023-03-02T14:08:00.000000000', '2023-03-02T10:54:00.000000000',\n",
       "       '2023-03-02T20:31:00.000000000', '2023-03-02T18:43:00.000000000',\n",
       "       '2023-03-02T17:24:00.000000000', '2023-03-02T10:11:00.000000000',\n",
       "       '2023-03-02T17:46:00.000000000', '2023-03-02T15:44:00.000000000',\n",
       "       '2023-03-02T19:30:00.000000000', '2023-03-02T10:22:00.000000000',\n",
       "       '2023-03-02T18:30:00.000000000', '2023-03-02T13:57:00.000000000',\n",
       "       '2023-03-02T12:22:00.000000000', '2023-03-02T17:59:00.000000000',\n",
       "       '2023-03-02T12:44:00.000000000', '2023-03-02T19:45:00.000000000',\n",
       "       '2023-03-02T20:26:00.000000000', '2023-03-02T19:38:00.000000000',\n",
       "       '2023-03-02T20:18:00.000000000', '2023-03-02T18:33:00.000000000',\n",
       "       '2023-03-02T16:06:00.000000000', '2023-03-02T12:47:00.000000000',\n",
       "       '2023-03-02T19:33:00.000000000', '2023-03-02T11:39:00.000000000',\n",
       "       '2023-03-02T11:32:00.000000000', '2023-03-02T15:29:00.000000000',\n",
       "       '2023-03-02T10:31:00.000000000', '2023-03-02T12:30:00.000000000',\n",
       "       '2023-03-02T13:18:00.000000000', '2023-03-02T11:52:00.000000000',\n",
       "       '2023-03-02T15:19:00.000000000', '2023-03-02T17:48:00.000000000',\n",
       "       '2023-03-02T11:07:00.000000000', '2023-03-02T14:14:00.000000000',\n",
       "       '2023-03-02T16:09:00.000000000', '2023-03-02T15:15:00.000000000',\n",
       "       '2023-03-02T20:06:00.000000000', '2023-03-02T11:27:00.000000000',\n",
       "       '2023-03-02T16:36:00.000000000', '2023-03-02T18:41:00.000000000',\n",
       "       '2023-03-02T17:12:00.000000000', '2023-03-02T18:06:00.000000000',\n",
       "       '2023-03-02T14:00:00.000000000', '2023-03-02T10:57:00.000000000',\n",
       "       '2023-03-02T10:10:00.000000000', '2023-03-02T10:05:00.000000000',\n",
       "       '2023-03-02T18:15:00.000000000', '2023-03-02T18:37:00.000000000',\n",
       "       '2023-03-02T14:42:00.000000000', '2023-03-02T15:21:00.000000000',\n",
       "       '2023-03-02T16:16:00.000000000', '2023-03-02T18:08:00.000000000',\n",
       "       '2023-03-02T13:11:00.000000000', '2023-03-02T11:05:00.000000000',\n",
       "       '2023-03-02T18:35:00.000000000', '2023-03-02T12:35:00.000000000',\n",
       "       '2023-03-02T14:30:00.000000000', '2023-03-02T13:35:00.000000000',\n",
       "       '2023-03-02T10:33:00.000000000', '2023-03-02T17:26:00.000000000',\n",
       "       '2023-03-02T16:08:00.000000000', '2023-03-02T13:37:00.000000000',\n",
       "       '2023-03-02T10:03:00.000000000', '2023-03-02T19:42:00.000000000',\n",
       "       '2023-03-02T13:14:00.000000000', '2023-03-02T19:53:00.000000000',\n",
       "       '2023-03-02T19:17:00.000000000', '2023-03-02T20:21:00.000000000',\n",
       "       '2023-03-02T17:35:00.000000000', '2023-03-02T16:30:00.000000000',\n",
       "       '2023-03-02T10:09:00.000000000', '2023-03-02T18:45:00.000000000',\n",
       "       '2023-03-02T12:04:00.000000000', '2023-03-02T17:54:00.000000000',\n",
       "       '2023-03-02T16:27:00.000000000', '2023-03-02T14:53:00.000000000',\n",
       "       '2023-03-02T15:07:00.000000000', '2023-03-02T15:23:00.000000000',\n",
       "       '2023-03-02T15:27:00.000000000', '2023-03-02T18:02:00.000000000',\n",
       "       '2023-03-02T19:06:00.000000000', '2023-03-02T20:46:00.000000000',\n",
       "       '2023-03-02T15:33:00.000000000', '2023-03-02T13:27:00.000000000',\n",
       "       '2023-03-02T18:07:00.000000000', '2023-03-02T16:19:00.000000000',\n",
       "       '2023-03-02T19:39:00.000000000', '2023-03-02T14:49:00.000000000',\n",
       "       '2023-03-02T13:03:00.000000000', '2023-03-02T11:49:00.000000000',\n",
       "       '2023-03-02T13:40:00.000000000', '2023-03-02T14:35:00.000000000',\n",
       "       '2023-03-02T15:01:00.000000000', '2023-03-02T18:17:00.000000000',\n",
       "       '2023-03-02T19:56:00.000000000', '2023-03-02T17:55:00.000000000',\n",
       "       '2023-03-02T12:09:00.000000000', '2023-03-02T12:29:00.000000000',\n",
       "       '2023-03-02T15:26:00.000000000', '2023-03-02T14:57:00.000000000',\n",
       "       '2023-03-02T18:36:00.000000000', '2023-03-02T14:40:00.000000000',\n",
       "       '2023-03-02T12:21:00.000000000', '2023-03-02T19:40:00.000000000',\n",
       "       '2023-03-02T14:43:00.000000000', '2023-03-02T19:18:00.000000000',\n",
       "       '2023-03-02T14:12:00.000000000', '2023-03-02T17:34:00.000000000',\n",
       "       '2023-03-02T19:46:00.000000000', '2023-03-02T19:00:00.000000000',\n",
       "       '2023-03-02T13:41:00.000000000', '2023-03-02T20:23:00.000000000',\n",
       "       '2023-03-02T11:57:00.000000000', '2023-03-02T14:51:00.000000000',\n",
       "       '2023-03-02T12:42:00.000000000', '2023-03-02T13:24:00.000000000',\n",
       "       '2023-03-02T15:53:00.000000000', '2023-03-02T12:58:00.000000000',\n",
       "       '2023-03-02T13:44:00.000000000', '2023-03-02T13:46:00.000000000',\n",
       "       '2023-03-02T10:52:00.000000000', '2023-03-02T19:28:00.000000000',\n",
       "       '2023-03-02T13:52:00.000000000', '2023-03-02T19:26:00.000000000',\n",
       "       '2023-03-02T18:42:00.000000000', '2023-03-02T19:43:00.000000000',\n",
       "       '2023-03-02T15:34:00.000000000', '2023-03-02T19:22:00.000000000',\n",
       "       '2023-03-02T19:24:00.000000000', '2023-03-02T20:55:00.000000000',\n",
       "       '2023-03-02T18:13:00.000000000', '2023-03-02T16:52:00.000000000',\n",
       "       '2023-03-02T20:52:00.000000000', '2023-03-02T17:37:00.000000000',\n",
       "       '2023-03-02T11:46:00.000000000', '2023-03-02T16:46:00.000000000',\n",
       "       '2023-03-02T18:48:00.000000000', '2023-03-02T13:02:00.000000000',\n",
       "       '2023-03-02T18:23:00.000000000', '2023-03-02T11:06:00.000000000',\n",
       "       '2023-03-02T19:02:00.000000000', '2023-03-02T15:40:00.000000000',\n",
       "       '2023-03-02T16:58:00.000000000', '2023-03-02T19:50:00.000000000',\n",
       "       '2023-03-02T13:32:00.000000000', '2023-03-02T13:19:00.000000000',\n",
       "       '2023-03-02T10:26:00.000000000', '2023-03-02T16:28:00.000000000',\n",
       "       '2023-03-02T13:00:00.000000000', '2023-03-02T14:29:00.000000000',\n",
       "       '2023-03-02T17:13:00.000000000', '2023-03-02T17:58:00.000000000',\n",
       "       '2023-03-02T11:02:00.000000000', '2023-03-02T16:59:00.000000000',\n",
       "       '2023-03-02T14:15:00.000000000', '2023-03-02T12:25:00.000000000',\n",
       "       '2023-03-02T15:25:00.000000000', '2023-03-02T11:48:00.000000000',\n",
       "       '2023-03-02T17:53:00.000000000', '2023-03-02T10:48:00.000000000',\n",
       "       '2023-03-02T14:28:00.000000000', '2023-03-02T10:34:00.000000000',\n",
       "       '2023-03-02T20:03:00.000000000', '2023-03-02T14:55:00.000000000',\n",
       "       '2023-03-02T20:40:00.000000000', '2023-03-02T17:45:00.000000000',\n",
       "       '2023-03-02T10:49:00.000000000', '2023-03-02T12:34:00.000000000',\n",
       "       '2023-03-02T13:45:00.000000000', '2023-03-02T12:32:00.000000000',\n",
       "       '2023-03-02T19:55:00.000000000', '2023-03-02T19:49:00.000000000',\n",
       "       '2023-03-02T12:15:00.000000000', '2023-03-02T15:58:00.000000000',\n",
       "       '2023-03-02T11:45:00.000000000', '2023-03-02T19:51:00.000000000',\n",
       "       '2023-03-02T16:04:00.000000000', '2023-03-02T14:41:00.000000000',\n",
       "       '2023-03-02T11:29:00.000000000', '2023-03-02T20:00:00.000000000',\n",
       "       '2023-03-02T13:06:00.000000000', '2023-03-02T20:43:00.000000000',\n",
       "       '2023-03-02T10:01:00.000000000', '2023-03-02T16:34:00.000000000',\n",
       "       '2023-03-02T13:10:00.000000000', '2023-03-02T19:29:00.000000000',\n",
       "       '2023-03-02T11:59:00.000000000', '2023-03-02T19:11:00.000000000',\n",
       "       '2023-03-02T18:57:00.000000000', '2023-03-02T11:18:00.000000000',\n",
       "       '2023-03-02T12:40:00.000000000', '2023-03-02T14:06:00.000000000',\n",
       "       '2023-03-02T20:42:00.000000000', '2023-03-02T18:53:00.000000000',\n",
       "       '2023-03-02T17:49:00.000000000', '2023-03-02T10:38:00.000000000',\n",
       "       '2023-03-02T11:16:00.000000000', '2023-03-02T15:12:00.000000000',\n",
       "       '2023-03-02T13:59:00.000000000', '2023-03-02T11:58:00.000000000',\n",
       "       '2023-03-02T20:32:00.000000000', '2023-03-02T16:26:00.000000000',\n",
       "       '2023-03-02T10:50:00.000000000', '2023-03-02T16:45:00.000000000',\n",
       "       '2023-03-02T16:32:00.000000000', '2023-03-02T11:01:00.000000000',\n",
       "       '2023-03-02T20:08:00.000000000', '2023-03-02T19:31:00.000000000',\n",
       "       '2023-03-02T13:51:00.000000000', '2023-03-02T11:55:00.000000000',\n",
       "       '2023-03-02T11:42:00.000000000', '2023-03-02T14:48:00.000000000',\n",
       "       '2023-03-02T14:25:00.000000000', '2023-03-02T15:18:00.000000000',\n",
       "       '2023-03-02T15:06:00.000000000', '2023-03-02T20:57:00.000000000',\n",
       "       '2023-03-02T15:16:00.000000000', '2023-03-02T17:47:00.000000000',\n",
       "       '2023-03-02T10:44:00.000000000', '2023-03-02T12:36:00.000000000',\n",
       "       '2023-03-02T10:58:00.000000000', '2023-03-02T11:10:00.000000000',\n",
       "       '2023-03-02T20:51:00.000000000', '2023-03-02T13:33:00.000000000',\n",
       "       '2023-03-02T20:13:00.000000000', '2023-03-02T14:26:00.000000000',\n",
       "       '2023-03-02T18:18:00.000000000', '2023-03-02T15:17:00.000000000',\n",
       "       '2023-03-02T18:10:00.000000000', '2023-03-02T19:08:00.000000000',\n",
       "       '2023-03-02T15:46:00.000000000', '2023-03-02T11:38:00.000000000',\n",
       "       '2023-03-02T11:24:00.000000000', '2023-03-02T10:42:00.000000000',\n",
       "       '2023-03-02T20:39:00.000000000', '2023-03-02T19:47:00.000000000',\n",
       "       '2023-03-02T17:08:00.000000000', '2023-03-02T10:19:00.000000000',\n",
       "       '2023-03-02T15:43:00.000000000', '2023-03-02T18:21:00.000000000',\n",
       "       '2023-03-02T14:20:00.000000000', '2023-03-02T16:24:00.000000000',\n",
       "       '2023-03-02T18:56:00.000000000', '2023-03-02T14:31:00.000000000',\n",
       "       '2023-03-02T20:05:00.000000000', '2023-03-02T10:41:00.000000000',\n",
       "       '2023-03-02T19:52:00.000000000', '2023-03-02T16:17:00.000000000',\n",
       "       '2023-03-02T15:57:00.000000000', '2023-03-02T16:43:00.000000000',\n",
       "       '2023-03-02T17:11:00.000000000', '2023-03-02T16:07:00.000000000',\n",
       "       '2023-03-02T15:00:00.000000000', '2023-03-02T20:50:00.000000000',\n",
       "       '2023-03-02T19:58:00.000000000', '2023-03-02T10:02:00.000000000',\n",
       "       '2023-03-02T17:07:00.000000000', '2023-03-02T17:22:00.000000000',\n",
       "       '2023-03-02T13:29:00.000000000', '2023-03-02T17:20:00.000000000',\n",
       "       '2023-03-02T13:42:00.000000000', '2023-03-02T14:44:00.000000000',\n",
       "       '2023-03-02T10:21:00.000000000', '2023-03-02T19:05:00.000000000',\n",
       "       '2023-03-02T11:34:00.000000000', '2023-03-02T18:58:00.000000000',\n",
       "       '2023-03-02T20:01:00.000000000', '2023-03-02T20:37:00.000000000',\n",
       "       '2023-03-02T12:12:00.000000000', '2023-03-02T15:32:00.000000000',\n",
       "       '2023-03-02T12:31:00.000000000', '2023-03-02T20:04:00.000000000',\n",
       "       '2023-03-02T13:38:00.000000000', '2023-03-02T17:30:00.000000000',\n",
       "       '2023-03-02T16:53:00.000000000', '2023-03-02T16:51:00.000000000',\n",
       "       '2023-03-02T20:15:00.000000000', '2023-03-02T14:11:00.000000000',\n",
       "       '2023-03-02T12:10:00.000000000', '2023-03-02T20:47:00.000000000',\n",
       "       '2023-03-02T11:17:00.000000000', '2023-03-02T15:52:00.000000000',\n",
       "       '2023-03-02T11:43:00.000000000', '2023-03-02T10:30:00.000000000',\n",
       "       '2023-03-02T10:06:00.000000000', '2023-03-02T12:16:00.000000000',\n",
       "       '2023-03-02T14:58:00.000000000', '2023-03-02T14:45:00.000000000',\n",
       "       '2023-03-02T17:10:00.000000000', '2023-03-02T14:27:00.000000000',\n",
       "       '2023-03-02T12:51:00.000000000', '2023-03-02T13:56:00.000000000',\n",
       "       '2023-03-02T16:18:00.000000000', '2023-03-02T15:14:00.000000000',\n",
       "       '2023-03-02T20:10:00.000000000', '2023-03-02T14:24:00.000000000',\n",
       "       '2023-03-02T12:39:00.000000000', '2023-03-02T12:41:00.000000000',\n",
       "       '2023-03-02T15:20:00.000000000', '2023-03-02T16:33:00.000000000',\n",
       "       '2023-03-02T20:44:00.000000000', '2023-03-02T20:30:00.000000000',\n",
       "       '2023-03-02T16:50:00.000000000', '2023-03-02T17:52:00.000000000',\n",
       "       '2023-03-02T11:33:00.000000000', '2023-03-02T18:38:00.000000000',\n",
       "       '2023-03-02T15:11:00.000000000', '2023-03-02T15:45:00.000000000',\n",
       "       '2023-03-02T16:35:00.000000000', '2023-03-02T13:50:00.000000000',\n",
       "       '2023-03-02T17:56:00.000000000', '2023-03-02T13:49:00.000000000',\n",
       "       '2023-03-02T14:05:00.000000000', '2023-03-02T19:12:00.000000000'],\n",
       "      dtype='datetime64[ns]')"
      ]
     },
     "execution_count": 28,
     "metadata": {},
     "output_type": "execute_result"
    }
   ],
   "source": [
    "pd.Series(df['Time'], name = 'hour').unique()"
   ]
  },
  {
   "cell_type": "markdown",
   "id": "d564b9cc",
   "metadata": {},
   "source": [
    "# Examples on Unique Values in Columns eg Branch"
   ]
  },
  {
   "cell_type": "code",
   "execution_count": 29,
   "id": "64651e50",
   "metadata": {},
   "outputs": [
    {
     "data": {
      "text/plain": [
       "['Invoice ID',\n",
       " 'Branch',\n",
       " 'City',\n",
       " 'Customer type',\n",
       " 'Gender',\n",
       " 'Product line',\n",
       " 'Payment']"
      ]
     },
     "execution_count": 29,
     "metadata": {},
     "output_type": "execute_result"
    }
   ],
   "source": [
    "categorical_columns = [col for col in df.columns if df[col].dtype == \"object\" ]\n",
    "categorical_columns"
   ]
  },
  {
   "cell_type": "code",
   "execution_count": 30,
   "id": "df0c3d1a",
   "metadata": {},
   "outputs": [
    {
     "data": {
      "text/plain": [
       "['A', 'B', 'C']"
      ]
     },
     "execution_count": 30,
     "metadata": {},
     "output_type": "execute_result"
    }
   ],
   "source": [
    "df['Branch'].unique().tolist()"
   ]
  },
  {
   "cell_type": "code",
   "execution_count": 31,
   "id": "64a7a37a",
   "metadata": {},
   "outputs": [
    {
     "name": "stdout",
     "output_type": "stream",
     "text": [
      "Total Number of unique values in the Branch Column : 3\n"
     ]
    }
   ],
   "source": [
    "print(\"Total Number of unique values in the Branch Column : {}\". format(len(df['Branch'].unique().tolist())))"
   ]
  },
  {
   "cell_type": "markdown",
   "id": "4c991f6c",
   "metadata": {},
   "source": [
    "# Unique Values in Columns - Payment, Product line, Gender and Customer type"
   ]
  },
  {
   "cell_type": "code",
   "execution_count": 32,
   "id": "3c560e79",
   "metadata": {},
   "outputs": [
    {
     "data": {
      "text/plain": [
       "['Epay', 'Card', 'Cash']"
      ]
     },
     "execution_count": 32,
     "metadata": {},
     "output_type": "execute_result"
    }
   ],
   "source": [
    "df['Payment'].unique().tolist()"
   ]
  },
  {
   "cell_type": "code",
   "execution_count": 33,
   "id": "46c1d063",
   "metadata": {},
   "outputs": [
    {
     "data": {
      "text/plain": [
       "['Health and beauty',\n",
       " 'Home and lifestyle',\n",
       " 'Sports and travel',\n",
       " 'Electronic accessories',\n",
       " 'Food and beverages',\n",
       " 'Fashion accessories']"
      ]
     },
     "execution_count": 33,
     "metadata": {},
     "output_type": "execute_result"
    }
   ],
   "source": [
    "df['Product line'].unique().tolist()"
   ]
  },
  {
   "cell_type": "code",
   "execution_count": 34,
   "id": "02857072",
   "metadata": {},
   "outputs": [
    {
     "name": "stdout",
     "output_type": "stream",
     "text": [
      "Total Number of unique values in the Product line Column : 6\n"
     ]
    }
   ],
   "source": [
    "print(\"Total Number of unique values in the Product line Column : {}\". format(len(df['Product line'].unique().tolist())))"
   ]
  },
  {
   "cell_type": "code",
   "execution_count": 35,
   "id": "0fd80ec0",
   "metadata": {},
   "outputs": [
    {
     "data": {
      "text/plain": [
       "['Female', 'Male']"
      ]
     },
     "execution_count": 35,
     "metadata": {},
     "output_type": "execute_result"
    }
   ],
   "source": [
    "df['Gender'].unique().tolist()"
   ]
  },
  {
   "cell_type": "code",
   "execution_count": 36,
   "id": "0bbf9240",
   "metadata": {},
   "outputs": [
    {
     "data": {
      "text/plain": [
       "['Member', 'Normal']"
      ]
     },
     "execution_count": 36,
     "metadata": {},
     "output_type": "execute_result"
    }
   ],
   "source": [
    "df['Customer type'].unique().tolist()"
   ]
  },
  {
   "cell_type": "markdown",
   "id": "e358b2fb",
   "metadata": {},
   "source": [
    "# Value_Count"
   ]
  },
  {
   "cell_type": "code",
   "execution_count": 37,
   "id": "18d19007",
   "metadata": {},
   "outputs": [
    {
     "data": {
      "text/plain": [
       "Fashion accessories       178\n",
       "Food and beverages        174\n",
       "Electronic accessories    170\n",
       "Sports and travel         166\n",
       "Home and lifestyle        160\n",
       "Health and beauty         152\n",
       "Name: Product line, dtype: int64"
      ]
     },
     "execution_count": 37,
     "metadata": {},
     "output_type": "execute_result"
    }
   ],
   "source": [
    "df['Product line'].value_counts()"
   ]
  },
  {
   "cell_type": "code",
   "execution_count": 38,
   "id": "07448b7e",
   "metadata": {},
   "outputs": [
    {
     "data": {
      "text/plain": [
       "Female    501\n",
       "Male      499\n",
       "Name: Gender, dtype: int64"
      ]
     },
     "execution_count": 38,
     "metadata": {},
     "output_type": "execute_result"
    }
   ],
   "source": [
    "df['Gender'].value_counts()"
   ]
  },
  {
   "cell_type": "code",
   "execution_count": 39,
   "id": "3448491c",
   "metadata": {},
   "outputs": [
    {
     "data": {
      "text/plain": [
       "Lagos            340\n",
       "Abuja            332\n",
       "Port Harcourt    328\n",
       "Name: City, dtype: int64"
      ]
     },
     "execution_count": 39,
     "metadata": {},
     "output_type": "execute_result"
    }
   ],
   "source": [
    "df['City'].value_counts()"
   ]
  },
  {
   "cell_type": "code",
   "execution_count": 40,
   "id": "3fcb5833",
   "metadata": {},
   "outputs": [
    {
     "data": {
      "text/plain": [
       "Epay    345\n",
       "Cash    344\n",
       "Card    311\n",
       "Name: Payment, dtype: int64"
      ]
     },
     "execution_count": 40,
     "metadata": {},
     "output_type": "execute_result"
    }
   ],
   "source": [
    "df['Payment'].value_counts()"
   ]
  },
  {
   "cell_type": "markdown",
   "id": "b8a1b933",
   "metadata": {},
   "source": [
    "# Groupby City column"
   ]
  },
  {
   "cell_type": "code",
   "execution_count": 41,
   "id": "185c52ab",
   "metadata": {},
   "outputs": [],
   "source": [
    "City = df.groupby('City')"
   ]
  },
  {
   "cell_type": "code",
   "execution_count": 42,
   "id": "59eee3e6",
   "metadata": {},
   "outputs": [
    {
     "data": {
      "text/plain": [
       "pandas.core.groupby.generic.DataFrameGroupBy"
      ]
     },
     "execution_count": 42,
     "metadata": {},
     "output_type": "execute_result"
    }
   ],
   "source": [
    "type(City)"
   ]
  },
  {
   "cell_type": "code",
   "execution_count": 43,
   "id": "7ee2f6e3",
   "metadata": {},
   "outputs": [
    {
     "data": {
      "text/plain": [
       "{'Abuja': [340, 341, 342, 343, 344, 345, 346, 347, 348, 349, 350, 351, 352, 353, 354, 355, 356, 357, 358, 359, 360, 361, 362, 363, 364, 365, 366, 367, 368, 369, 370, 371, 372, 373, 374, 375, 376, 377, 378, 379, 380, 381, 382, 383, 384, 385, 386, 387, 388, 389, 390, 391, 392, 393, 394, 395, 396, 397, 398, 399, 400, 401, 402, 403, 404, 405, 406, 407, 408, 409, 410, 411, 412, 413, 414, 415, 416, 417, 418, 419, 420, 421, 422, 423, 424, 425, 426, 427, 428, 429, 430, 431, 432, 433, 434, 435, 436, 437, 438, 439, ...], 'Lagos': [0, 1, 2, 3, 4, 5, 6, 7, 8, 9, 10, 11, 12, 13, 14, 15, 16, 17, 18, 19, 20, 21, 22, 23, 24, 25, 26, 27, 28, 29, 30, 31, 32, 33, 34, 35, 36, 37, 38, 39, 40, 41, 42, 43, 44, 45, 46, 47, 48, 49, 50, 51, 52, 53, 54, 55, 56, 57, 58, 59, 60, 61, 62, 63, 64, 65, 66, 67, 68, 69, 70, 71, 72, 73, 74, 75, 76, 77, 78, 79, 80, 81, 82, 83, 84, 85, 86, 87, 88, 89, 90, 91, 92, 93, 94, 95, 96, 97, 98, 99, ...], 'Port Harcourt': [672, 673, 674, 675, 676, 677, 678, 679, 680, 681, 682, 683, 684, 685, 686, 687, 688, 689, 690, 691, 692, 693, 694, 695, 696, 697, 698, 699, 700, 701, 702, 703, 704, 705, 706, 707, 708, 709, 710, 711, 712, 713, 714, 715, 716, 717, 718, 719, 720, 721, 722, 723, 724, 725, 726, 727, 728, 729, 730, 731, 732, 733, 734, 735, 736, 737, 738, 739, 740, 741, 742, 743, 744, 745, 746, 747, 748, 749, 750, 751, 752, 753, 754, 755, 756, 757, 758, 759, 760, 761, 762, 763, 764, 765, 766, 767, 768, 769, 770, 771, ...]}"
      ]
     },
     "execution_count": 43,
     "metadata": {},
     "output_type": "execute_result"
    }
   ],
   "source": [
    "City.groups"
   ]
  },
  {
   "cell_type": "code",
   "execution_count": 44,
   "id": "5626b15d",
   "metadata": {},
   "outputs": [
    {
     "data": {
      "text/plain": [
       "City\n",
       "Abuja            6652396.8\n",
       "Lagos            6705176.4\n",
       "Port Harcourt    6684393.6\n",
       "Name: Unit price, dtype: float64"
      ]
     },
     "execution_count": 44,
     "metadata": {},
     "output_type": "execute_result"
    }
   ],
   "source": [
    "City['Unit price'].sum()"
   ]
  },
  {
   "cell_type": "code",
   "execution_count": 45,
   "id": "487b1c9d",
   "metadata": {},
   "outputs": [
    {
     "data": {
      "text/plain": [
       "City\n",
       "Abuja            20037.339759\n",
       "Lagos            19721.107059\n",
       "Port Harcourt    20379.248780\n",
       "Name: Unit price, dtype: float64"
      ]
     },
     "execution_count": 45,
     "metadata": {},
     "output_type": "execute_result"
    }
   ],
   "source": [
    "City['Unit price'].mean()"
   ]
  },
  {
   "cell_type": "code",
   "execution_count": 46,
   "id": "2e398df5",
   "metadata": {},
   "outputs": [
    {
     "data": {
      "text/html": [
       "<div>\n",
       "<style scoped>\n",
       "    .dataframe tbody tr th:only-of-type {\n",
       "        vertical-align: middle;\n",
       "    }\n",
       "\n",
       "    .dataframe tbody tr th {\n",
       "        vertical-align: top;\n",
       "    }\n",
       "\n",
       "    .dataframe thead th {\n",
       "        text-align: right;\n",
       "    }\n",
       "</style>\n",
       "<table border=\"1\" class=\"dataframe\">\n",
       "  <thead>\n",
       "    <tr style=\"text-align: right;\">\n",
       "      <th></th>\n",
       "      <th>Unnamed: 0</th>\n",
       "      <th>Invoice ID</th>\n",
       "      <th>Branch</th>\n",
       "      <th>City</th>\n",
       "      <th>Customer type</th>\n",
       "      <th>Gender</th>\n",
       "      <th>Product line</th>\n",
       "      <th>Unit price</th>\n",
       "      <th>Quantity</th>\n",
       "      <th>Tax 5%</th>\n",
       "      <th>...</th>\n",
       "      <th>Payment</th>\n",
       "      <th>cogs</th>\n",
       "      <th>gross margin percentage</th>\n",
       "      <th>gross income</th>\n",
       "      <th>Rating</th>\n",
       "      <th>day</th>\n",
       "      <th>month</th>\n",
       "      <th>year</th>\n",
       "      <th>hour</th>\n",
       "      <th>Minute</th>\n",
       "    </tr>\n",
       "  </thead>\n",
       "  <tbody>\n",
       "    <tr>\n",
       "      <th>340</th>\n",
       "      <td>0</td>\n",
       "      <td>692-92-5582</td>\n",
       "      <td>B</td>\n",
       "      <td>Abuja</td>\n",
       "      <td>Member</td>\n",
       "      <td>Female</td>\n",
       "      <td>Food and beverages</td>\n",
       "      <td>19742.4</td>\n",
       "      <td>3</td>\n",
       "      <td>2961.36</td>\n",
       "      <td>...</td>\n",
       "      <td>Card</td>\n",
       "      <td>59227.2</td>\n",
       "      <td>4.761905</td>\n",
       "      <td>2961.36</td>\n",
       "      <td>5.9</td>\n",
       "      <td>20</td>\n",
       "      <td>2</td>\n",
       "      <td>2019</td>\n",
       "      <td>0</td>\n",
       "      <td>0</td>\n",
       "    </tr>\n",
       "    <tr>\n",
       "      <th>341</th>\n",
       "      <td>1</td>\n",
       "      <td>351-62-0822</td>\n",
       "      <td>B</td>\n",
       "      <td>Abuja</td>\n",
       "      <td>Member</td>\n",
       "      <td>Female</td>\n",
       "      <td>Fashion accessories</td>\n",
       "      <td>5212.8</td>\n",
       "      <td>4</td>\n",
       "      <td>1042.56</td>\n",
       "      <td>...</td>\n",
       "      <td>Epay</td>\n",
       "      <td>20851.2</td>\n",
       "      <td>4.761905</td>\n",
       "      <td>1042.56</td>\n",
       "      <td>4.5</td>\n",
       "      <td>6</td>\n",
       "      <td>2</td>\n",
       "      <td>2019</td>\n",
       "      <td>0</td>\n",
       "      <td>0</td>\n",
       "    </tr>\n",
       "    <tr>\n",
       "      <th>342</th>\n",
       "      <td>2</td>\n",
       "      <td>529-56-3974</td>\n",
       "      <td>B</td>\n",
       "      <td>Abuja</td>\n",
       "      <td>Member</td>\n",
       "      <td>Male</td>\n",
       "      <td>Electronic accessories</td>\n",
       "      <td>9183.6</td>\n",
       "      <td>4</td>\n",
       "      <td>1836.72</td>\n",
       "      <td>...</td>\n",
       "      <td>Cash</td>\n",
       "      <td>36734.4</td>\n",
       "      <td>4.761905</td>\n",
       "      <td>1836.72</td>\n",
       "      <td>6.8</td>\n",
       "      <td>9</td>\n",
       "      <td>3</td>\n",
       "      <td>2019</td>\n",
       "      <td>0</td>\n",
       "      <td>0</td>\n",
       "    </tr>\n",
       "    <tr>\n",
       "      <th>343</th>\n",
       "      <td>3</td>\n",
       "      <td>299-46-1805</td>\n",
       "      <td>B</td>\n",
       "      <td>Abuja</td>\n",
       "      <td>Member</td>\n",
       "      <td>Female</td>\n",
       "      <td>Sports and travel</td>\n",
       "      <td>33739.2</td>\n",
       "      <td>6</td>\n",
       "      <td>10121.76</td>\n",
       "      <td>...</td>\n",
       "      <td>Cash</td>\n",
       "      <td>202435.2</td>\n",
       "      <td>4.761905</td>\n",
       "      <td>10121.76</td>\n",
       "      <td>4.5</td>\n",
       "      <td>15</td>\n",
       "      <td>1</td>\n",
       "      <td>2019</td>\n",
       "      <td>0</td>\n",
       "      <td>0</td>\n",
       "    </tr>\n",
       "    <tr>\n",
       "      <th>344</th>\n",
       "      <td>4</td>\n",
       "      <td>319-50-3348</td>\n",
       "      <td>B</td>\n",
       "      <td>Abuja</td>\n",
       "      <td>Normal</td>\n",
       "      <td>Female</td>\n",
       "      <td>Home and lifestyle</td>\n",
       "      <td>14508.0</td>\n",
       "      <td>2</td>\n",
       "      <td>1450.80</td>\n",
       "      <td>...</td>\n",
       "      <td>Epay</td>\n",
       "      <td>29016.0</td>\n",
       "      <td>4.761905</td>\n",
       "      <td>1450.80</td>\n",
       "      <td>4.4</td>\n",
       "      <td>11</td>\n",
       "      <td>3</td>\n",
       "      <td>2019</td>\n",
       "      <td>0</td>\n",
       "      <td>0</td>\n",
       "    </tr>\n",
       "  </tbody>\n",
       "</table>\n",
       "<p>5 rows × 23 columns</p>\n",
       "</div>"
      ],
      "text/plain": [
       "     Unnamed: 0   Invoice ID Branch   City Customer type  Gender  \\\n",
       "340           0  692-92-5582      B  Abuja        Member  Female   \n",
       "341           1  351-62-0822      B  Abuja        Member  Female   \n",
       "342           2  529-56-3974      B  Abuja        Member    Male   \n",
       "343           3  299-46-1805      B  Abuja        Member  Female   \n",
       "344           4  319-50-3348      B  Abuja        Normal  Female   \n",
       "\n",
       "               Product line  Unit price  Quantity    Tax 5%  ...  Payment  \\\n",
       "340      Food and beverages     19742.4         3   2961.36  ...     Card   \n",
       "341     Fashion accessories      5212.8         4   1042.56  ...     Epay   \n",
       "342  Electronic accessories      9183.6         4   1836.72  ...     Cash   \n",
       "343       Sports and travel     33739.2         6  10121.76  ...     Cash   \n",
       "344      Home and lifestyle     14508.0         2   1450.80  ...     Epay   \n",
       "\n",
       "         cogs gross margin percentage gross income  Rating  day  month  year  \\\n",
       "340   59227.2                4.761905      2961.36     5.9   20      2  2019   \n",
       "341   20851.2                4.761905      1042.56     4.5    6      2  2019   \n",
       "342   36734.4                4.761905      1836.72     6.8    9      3  2019   \n",
       "343  202435.2                4.761905     10121.76     4.5   15      1  2019   \n",
       "344   29016.0                4.761905      1450.80     4.4   11      3  2019   \n",
       "\n",
       "     hour  Minute  \n",
       "340     0       0  \n",
       "341     0       0  \n",
       "342     0       0  \n",
       "343     0       0  \n",
       "344     0       0  \n",
       "\n",
       "[5 rows x 23 columns]"
      ]
     },
     "execution_count": 46,
     "metadata": {},
     "output_type": "execute_result"
    }
   ],
   "source": [
    "City.get_group('Abuja').head()"
   ]
  },
  {
   "cell_type": "code",
   "execution_count": 47,
   "id": "c3775a60",
   "metadata": {},
   "outputs": [
    {
     "data": {
      "text/plain": [
       "1820531.52"
      ]
     },
     "execution_count": 47,
     "metadata": {},
     "output_type": "execute_result"
    }
   ],
   "source": [
    "City.get_group('Abuja')['gross income'].sum()"
   ]
  },
  {
   "cell_type": "code",
   "execution_count": 48,
   "id": "1caaa895",
   "metadata": {},
   "outputs": [
    {
     "data": {
      "text/plain": [
       "City\n",
       "Abuja            1820531.52\n",
       "Lagos            1820577.78\n",
       "Port Harcourt    1895463.54\n",
       "Name: gross income, dtype: float64"
      ]
     },
     "execution_count": 48,
     "metadata": {},
     "output_type": "execute_result"
    }
   ],
   "source": [
    "City['gross income'].sum()"
   ]
  },
  {
   "cell_type": "code",
   "execution_count": 49,
   "id": "05fe8fcc",
   "metadata": {},
   "outputs": [
    {
     "data": {
      "text/plain": [
       "1820577.78"
      ]
     },
     "execution_count": 49,
     "metadata": {},
     "output_type": "execute_result"
    }
   ],
   "source": [
    "City.get_group('Lagos')['gross income'].sum()"
   ]
  },
  {
   "cell_type": "code",
   "execution_count": 50,
   "id": "688e914b",
   "metadata": {},
   "outputs": [
    {
     "data": {
      "text/plain": [
       "1895463.54"
      ]
     },
     "execution_count": 50,
     "metadata": {},
     "output_type": "execute_result"
    }
   ],
   "source": [
    "City.get_group('Port Harcourt')['gross income'].sum()"
   ]
  },
  {
   "cell_type": "code",
   "execution_count": 51,
   "id": "cc493a79",
   "metadata": {},
   "outputs": [],
   "source": [
    "Dff = City.agg({'gross income': 'sum'})\n"
   ]
  },
  {
   "cell_type": "code",
   "execution_count": 52,
   "id": "5cb92d4d",
   "metadata": {},
   "outputs": [
    {
     "data": {
      "text/html": [
       "<div>\n",
       "<style scoped>\n",
       "    .dataframe tbody tr th:only-of-type {\n",
       "        vertical-align: middle;\n",
       "    }\n",
       "\n",
       "    .dataframe tbody tr th {\n",
       "        vertical-align: top;\n",
       "    }\n",
       "\n",
       "    .dataframe thead th {\n",
       "        text-align: right;\n",
       "    }\n",
       "</style>\n",
       "<table border=\"1\" class=\"dataframe\">\n",
       "  <thead>\n",
       "    <tr style=\"text-align: right;\">\n",
       "      <th></th>\n",
       "      <th>gross income</th>\n",
       "    </tr>\n",
       "    <tr>\n",
       "      <th>City</th>\n",
       "      <th></th>\n",
       "    </tr>\n",
       "  </thead>\n",
       "  <tbody>\n",
       "    <tr>\n",
       "      <th>Abuja</th>\n",
       "      <td>1820531.52</td>\n",
       "    </tr>\n",
       "    <tr>\n",
       "      <th>Lagos</th>\n",
       "      <td>1820577.78</td>\n",
       "    </tr>\n",
       "    <tr>\n",
       "      <th>Port Harcourt</th>\n",
       "      <td>1895463.54</td>\n",
       "    </tr>\n",
       "  </tbody>\n",
       "</table>\n",
       "</div>"
      ],
      "text/plain": [
       "               gross income\n",
       "City                       \n",
       "Abuja            1820531.52\n",
       "Lagos            1820577.78\n",
       "Port Harcourt    1895463.54"
      ]
     },
     "execution_count": 52,
     "metadata": {},
     "output_type": "execute_result"
    }
   ],
   "source": [
    "Dff"
   ]
  },
  {
   "cell_type": "code",
   "execution_count": 53,
   "id": "29d2b82a",
   "metadata": {},
   "outputs": [
    {
     "data": {
      "text/plain": [
       "gross income    1895463.54\n",
       "dtype: float64"
      ]
     },
     "execution_count": 53,
     "metadata": {},
     "output_type": "execute_result"
    }
   ],
   "source": [
    "Dff.max()"
   ]
  },
  {
   "cell_type": "code",
   "execution_count": 54,
   "id": "66b1220f",
   "metadata": {},
   "outputs": [
    {
     "data": {
      "text/plain": [
       "City\n",
       "Abuja            17528.4\n",
       "Lagos            17816.4\n",
       "Port Harcourt    17874.0\n",
       "Name: gross income, dtype: float64"
      ]
     },
     "execution_count": 54,
     "metadata": {},
     "output_type": "execute_result"
    }
   ],
   "source": [
    "City['gross income'].max('City')"
   ]
  },
  {
   "cell_type": "markdown",
   "id": "e53b88a7",
   "metadata": {},
   "source": [
    "# Data Visualization using seaborn"
   ]
  },
  {
   "cell_type": "code",
   "execution_count": 55,
   "id": "ffc9432a",
   "metadata": {},
   "outputs": [],
   "source": [
    "Data = pd.read_csv('Market_data.csv')"
   ]
  },
  {
   "cell_type": "code",
   "execution_count": 56,
   "id": "1bf2829b",
   "metadata": {},
   "outputs": [
    {
     "data": {
      "text/html": [
       "<div>\n",
       "<style scoped>\n",
       "    .dataframe tbody tr th:only-of-type {\n",
       "        vertical-align: middle;\n",
       "    }\n",
       "\n",
       "    .dataframe tbody tr th {\n",
       "        vertical-align: top;\n",
       "    }\n",
       "\n",
       "    .dataframe thead th {\n",
       "        text-align: right;\n",
       "    }\n",
       "</style>\n",
       "<table border=\"1\" class=\"dataframe\">\n",
       "  <thead>\n",
       "    <tr style=\"text-align: right;\">\n",
       "      <th></th>\n",
       "      <th>Unnamed: 0</th>\n",
       "      <th>Invoice ID</th>\n",
       "      <th>Branch</th>\n",
       "      <th>City</th>\n",
       "      <th>Customer type</th>\n",
       "      <th>Gender</th>\n",
       "      <th>Product line</th>\n",
       "      <th>Unit price</th>\n",
       "      <th>Quantity</th>\n",
       "      <th>Tax 5%</th>\n",
       "      <th>Total</th>\n",
       "      <th>Date</th>\n",
       "      <th>Time</th>\n",
       "      <th>Payment</th>\n",
       "      <th>cogs</th>\n",
       "      <th>gross margin percentage</th>\n",
       "      <th>gross income</th>\n",
       "      <th>Rating</th>\n",
       "    </tr>\n",
       "  </thead>\n",
       "  <tbody>\n",
       "    <tr>\n",
       "      <th>0</th>\n",
       "      <td>0</td>\n",
       "      <td>750-67-8428</td>\n",
       "      <td>A</td>\n",
       "      <td>Lagos</td>\n",
       "      <td>Member</td>\n",
       "      <td>Female</td>\n",
       "      <td>Health and beauty</td>\n",
       "      <td>26888.4</td>\n",
       "      <td>7</td>\n",
       "      <td>9410.94</td>\n",
       "      <td>197629.74</td>\n",
       "      <td>1/5/2019</td>\n",
       "      <td>13:08</td>\n",
       "      <td>Epay</td>\n",
       "      <td>188218.8</td>\n",
       "      <td>4.761905</td>\n",
       "      <td>9410.94</td>\n",
       "      <td>9.1</td>\n",
       "    </tr>\n",
       "    <tr>\n",
       "      <th>1</th>\n",
       "      <td>1</td>\n",
       "      <td>631-41-3108</td>\n",
       "      <td>A</td>\n",
       "      <td>Lagos</td>\n",
       "      <td>Normal</td>\n",
       "      <td>Male</td>\n",
       "      <td>Home and lifestyle</td>\n",
       "      <td>16678.8</td>\n",
       "      <td>7</td>\n",
       "      <td>5837.58</td>\n",
       "      <td>122589.18</td>\n",
       "      <td>3/3/2019</td>\n",
       "      <td>13:23</td>\n",
       "      <td>Card</td>\n",
       "      <td>116751.6</td>\n",
       "      <td>4.761905</td>\n",
       "      <td>5837.58</td>\n",
       "      <td>7.4</td>\n",
       "    </tr>\n",
       "    <tr>\n",
       "      <th>2</th>\n",
       "      <td>2</td>\n",
       "      <td>123-19-1176</td>\n",
       "      <td>A</td>\n",
       "      <td>Lagos</td>\n",
       "      <td>Member</td>\n",
       "      <td>Male</td>\n",
       "      <td>Health and beauty</td>\n",
       "      <td>20959.2</td>\n",
       "      <td>8</td>\n",
       "      <td>8383.68</td>\n",
       "      <td>176057.28</td>\n",
       "      <td>1/27/2019</td>\n",
       "      <td>20:33</td>\n",
       "      <td>Epay</td>\n",
       "      <td>167673.6</td>\n",
       "      <td>4.761905</td>\n",
       "      <td>8383.68</td>\n",
       "      <td>8.4</td>\n",
       "    </tr>\n",
       "    <tr>\n",
       "      <th>3</th>\n",
       "      <td>3</td>\n",
       "      <td>373-73-7910</td>\n",
       "      <td>A</td>\n",
       "      <td>Lagos</td>\n",
       "      <td>Normal</td>\n",
       "      <td>Male</td>\n",
       "      <td>Sports and travel</td>\n",
       "      <td>31071.6</td>\n",
       "      <td>7</td>\n",
       "      <td>10875.06</td>\n",
       "      <td>228376.26</td>\n",
       "      <td>2/8/2019</td>\n",
       "      <td>10:37</td>\n",
       "      <td>Epay</td>\n",
       "      <td>217501.2</td>\n",
       "      <td>4.761905</td>\n",
       "      <td>10875.06</td>\n",
       "      <td>5.3</td>\n",
       "    </tr>\n",
       "    <tr>\n",
       "      <th>4</th>\n",
       "      <td>4</td>\n",
       "      <td>355-53-5943</td>\n",
       "      <td>A</td>\n",
       "      <td>Lagos</td>\n",
       "      <td>Member</td>\n",
       "      <td>Female</td>\n",
       "      <td>Electronic accessories</td>\n",
       "      <td>24782.4</td>\n",
       "      <td>6</td>\n",
       "      <td>7434.72</td>\n",
       "      <td>156129.12</td>\n",
       "      <td>2/25/2019</td>\n",
       "      <td>14:36</td>\n",
       "      <td>Epay</td>\n",
       "      <td>148694.4</td>\n",
       "      <td>4.761905</td>\n",
       "      <td>7434.72</td>\n",
       "      <td>5.8</td>\n",
       "    </tr>\n",
       "  </tbody>\n",
       "</table>\n",
       "</div>"
      ],
      "text/plain": [
       "   Unnamed: 0   Invoice ID Branch   City Customer type  Gender  \\\n",
       "0           0  750-67-8428      A  Lagos        Member  Female   \n",
       "1           1  631-41-3108      A  Lagos        Normal    Male   \n",
       "2           2  123-19-1176      A  Lagos        Member    Male   \n",
       "3           3  373-73-7910      A  Lagos        Normal    Male   \n",
       "4           4  355-53-5943      A  Lagos        Member  Female   \n",
       "\n",
       "             Product line  Unit price  Quantity    Tax 5%      Total  \\\n",
       "0       Health and beauty     26888.4         7   9410.94  197629.74   \n",
       "1      Home and lifestyle     16678.8         7   5837.58  122589.18   \n",
       "2       Health and beauty     20959.2         8   8383.68  176057.28   \n",
       "3       Sports and travel     31071.6         7  10875.06  228376.26   \n",
       "4  Electronic accessories     24782.4         6   7434.72  156129.12   \n",
       "\n",
       "        Date   Time Payment      cogs  gross margin percentage  gross income  \\\n",
       "0   1/5/2019  13:08    Epay  188218.8                 4.761905       9410.94   \n",
       "1   3/3/2019  13:23    Card  116751.6                 4.761905       5837.58   \n",
       "2  1/27/2019  20:33    Epay  167673.6                 4.761905       8383.68   \n",
       "3   2/8/2019  10:37    Epay  217501.2                 4.761905      10875.06   \n",
       "4  2/25/2019  14:36    Epay  148694.4                 4.761905       7434.72   \n",
       "\n",
       "   Rating  \n",
       "0     9.1  \n",
       "1     7.4  \n",
       "2     8.4  \n",
       "3     5.3  \n",
       "4     5.8  "
      ]
     },
     "execution_count": 56,
     "metadata": {},
     "output_type": "execute_result"
    }
   ],
   "source": [
    "Data.head()"
   ]
  },
  {
   "cell_type": "code",
   "execution_count": 57,
   "id": "a30ec3cd",
   "metadata": {},
   "outputs": [
    {
     "data": {
      "text/plain": [
       "[Text(0.5, 1.0, 'Highest_Sales Record')]"
      ]
     },
     "execution_count": 57,
     "metadata": {},
     "output_type": "execute_result"
    },
    {
     "data": {
      "image/png": "[encoded data removed]",
      "text/plain": [
       "<Figure size 640x480 with 1 Axes>"
      ]
     },
     "metadata": {},
     "output_type": "display_data"
    }
   ],
   "source": [
    "sns.countplot(data = Data, x = 'Branch').set(title = 'Highest_Sales Record')"
   ]
  },
  {
   "cell_type": "code",
   "execution_count": null,
   "id": "aef1baed",
   "metadata": {},
   "outputs": [],
   "source": []
  },
  {
   "cell_type": "code",
   "execution_count": 58,
   "id": "e817ede3",
   "metadata": {},
   "outputs": [
    {
     "data": {
      "text/plain": [
       "[Text(0.5, 1.0, 'Highest_Payment')]"
      ]
     },
     "execution_count": 58,
     "metadata": {},
     "output_type": "execute_result"
    },
    {
     "data": {
      "image/png": "[encoded data removed]",
      "text/plain": [
       "<Figure size 640x480 with 1 Axes>"
      ]
     },
     "metadata": {},
     "output_type": "display_data"
    }
   ],
   "source": [
    "sns.countplot(data = Data, y = 'Payment').set(title = 'Highest_Payment')"
   ]
  },
  {
   "cell_type": "markdown",
   "id": "bb2b6f6f",
   "metadata": {},
   "source": [
    "# Highest product line sold"
   ]
  },
  {
   "cell_type": "code",
   "execution_count": 59,
   "id": "c19b150c",
   "metadata": {},
   "outputs": [
    {
     "data": {
      "text/plain": [
       "[Text(0.5, 1.0, 'Highest_productline')]"
      ]
     },
     "execution_count": 59,
     "metadata": {},
     "output_type": "execute_result"
    },
    {
     "data": {
      "image/png": "[encoded data removed]",
      "text/plain": [
       "<Figure size 640x480 with 1 Axes>"
      ]
     },
     "metadata": {},
     "output_type": "display_data"
    }
   ],
   "source": [
    "sns.countplot(data = Data, y = 'Product line', hue = 'City').set(title = 'Highest_productline')\n"
   ]
  },
  {
   "cell_type": "code",
   "execution_count": 60,
   "id": "9150e7bf",
   "metadata": {},
   "outputs": [
    {
     "data": {
      "text/plain": [
       "[Text(0.5, 1.0, 'Most used_Payment_type')]"
      ]
     },
     "execution_count": 60,
     "metadata": {},
     "output_type": "execute_result"
    },
    {
     "data": {
      "image/png": "[encoded data removed]",
      "text/plain": [
       "<Figure size 640x480 with 1 Axes>"
      ]
     },
     "metadata": {},
     "output_type": "display_data"
    }
   ],
   "source": [
    "sns.countplot(data = Data, y = 'Product line', hue = 'Payment').set(title = 'Most used_Payment_type')"
   ]
  },
  {
   "cell_type": "code",
   "execution_count": 61,
   "id": "7726fd8a",
   "metadata": {
    "scrolled": true
   },
   "outputs": [
    {
     "data": {
      "text/plain": [
       "[Text(0.5, 1.0, 'Payment/Branch')]"
      ]
     },
     "execution_count": 61,
     "metadata": {},
     "output_type": "execute_result"
    },
    {
     "data": {
      "image/png": "[encoded data removed]",
      "text/plain": [
       "<Figure size 640x480 with 1 Axes>"
      ]
     },
     "metadata": {},
     "output_type": "display_data"
    }
   ],
   "source": [
    "sns.countplot(data = Data, y = 'Payment', hue = 'Branch').set(title = 'Payment/Branch')"
   ]
  },
  {
   "cell_type": "markdown",
   "id": "35f6f49e",
   "metadata": {},
   "source": [
    "# Branch with lowest rating"
   ]
  },
  {
   "cell_type": "code",
   "execution_count": 62,
   "id": "480fddfd",
   "metadata": {},
   "outputs": [
    {
     "data": {
      "text/plain": [
       "[Text(0.5, 1.0, 'Branch_lowest rating')]"
      ]
     },
     "execution_count": 62,
     "metadata": {},
     "output_type": "execute_result"
    },
    {
     "data": {
      "image/png": "[encoded data removed]",
      "text/plain": [
       "<Figure size 640x480 with 1 Axes>"
      ]
     },
     "metadata": {},
     "output_type": "display_data"
    }
   ],
   "source": [
    "sns.boxplot(orient = 'v', x = 'City', y = 'Rating', data = Data).set(title = 'Branch_lowest rating')"
   ]
  },
  {
   "cell_type": "code",
   "execution_count": 63,
   "id": "8f40e524",
   "metadata": {
    "scrolled": true
   },
   "outputs": [
    {
     "data": {
      "text/plain": [
       "[Text(0.5, 1.0, 'Gender/Branch')]"
      ]
     },
     "execution_count": 63,
     "metadata": {},
     "output_type": "execute_result"
    },
    {
     "data": {
      "image/png": "[encoded data removed]",
      "text/plain": [
       "<Figure size 640x480 with 1 Axes>"
      ]
     },
     "metadata": {},
     "output_type": "display_data"
    }
   ],
   "source": [
    "sns.countplot(data = Data, y = 'Gender', hue = 'Branch').set(title = 'Gender/Branch')"
   ]
  },
  {
   "cell_type": "markdown",
   "id": "c69c2742",
   "metadata": {},
   "source": [
    "# Using Catplot"
   ]
  },
  {
   "cell_type": "code",
   "execution_count": 64,
   "id": "ac69c43b",
   "metadata": {},
   "outputs": [
    {
     "data": {
      "text/plain": [
       "<seaborn.axisgrid.FacetGrid at 0x1b160d9ad00>"
      ]
     },
     "execution_count": 64,
     "metadata": {},
     "output_type": "execute_result"
    },
    {
     "data": {
      "image/png": "[encoded data removed]",
      "text/plain": [
       "<Figure size 2140.38x500 with 1 Axes>"
      ]
     },
     "metadata": {},
     "output_type": "display_data"
    }
   ],
   "source": [
    "sns.catplot(data = Data, x = 'Product line', y = 'Quantity', hue = 'Gender', aspect = 4)"
   ]
  },
  {
   "cell_type": "markdown",
   "id": "3b909985",
   "metadata": {},
   "source": [
    "# Using Catplot on total column"
   ]
  },
  {
   "cell_type": "code",
   "execution_count": 65,
   "id": "2e377480",
   "metadata": {},
   "outputs": [
    {
     "data": {
      "text/plain": [
       "<seaborn.axisgrid.FacetGrid at 0x1b161557670>"
      ]
     },
     "execution_count": 65,
     "metadata": {},
     "output_type": "execute_result"
    },
    {
     "data": {
      "image/png": "[encoded data removed]",
      "text/plain": [
       "<Figure size 2140.38x500 with 1 Axes>"
      ]
     },
     "metadata": {},
     "output_type": "display_data"
    }
   ],
   "source": [
    "sns.catplot(kind = 'point', data = Data, x = 'Product line', y = 'Total', hue = 'Gender', aspect = 4)"
   ]
  },
  {
   "cell_type": "markdown",
   "id": "db49b520",
   "metadata": {},
   "source": [
    "# Summary of insight \n",
    "It can be observed that the most frequent customers are of the female gender and the most bought product is the 'Home and lifestyle'.\n",
    "Also, the use of catplot with kind = 'point' is an easy to read representation. "
   ]
  },
  {
   "cell_type": "code",
   "execution_count": 66,
   "id": "b4a4684f",
   "metadata": {},
   "outputs": [
    {
     "data": {
      "text/plain": [
       "<seaborn.axisgrid.FacetGrid at 0x1b161a6a370>"
      ]
     },
     "execution_count": 66,
     "metadata": {},
     "output_type": "execute_result"
    },
    {
     "data": {
      "image/png": "[encoded data removed]",
      "text/plain": [
       "<Figure size 2140.38x500 with 1 Axes>"
      ]
     },
     "metadata": {},
     "output_type": "display_data"
    }
   ],
   "source": [
    "sns.catplot(kind = 'point', data = Data, x = 'Product line', y = 'Unit price', hue = 'Gender', aspect = 4)"
   ]
  },
  {
   "cell_type": "code",
   "execution_count": 67,
   "id": "f50c5fe7",
   "metadata": {},
   "outputs": [
    {
     "data": {
      "text/plain": [
       "<seaborn.axisgrid.FacetGrid at 0x1b161b02520>"
      ]
     },
     "execution_count": 67,
     "metadata": {},
     "output_type": "execute_result"
    },
    {
     "data": {
      "image/png": "[encoded data removed]",
      "text/plain": [
       "<Figure size 2140.38x500 with 1 Axes>"
      ]
     },
     "metadata": {},
     "output_type": "display_data"
    }
   ],
   "source": [
    "sns.catplot(kind = 'point', data = Data, x = 'Product line', y = 'Quantity', hue = 'Gender', aspect = 4)"
   ]
  },
  {
   "cell_type": "markdown",
   "id": "8b24cf5c",
   "metadata": {},
   "source": [
    "# Summary of Insight\n",
    "\n",
    " The most used payment method with respect to 'Product line' is Cash\n",
    " \n",
    " The branch with the lowest rating is \"B\" while 'C' has the highest\n",
    " \n",
    " It is observed that the most frequent customers are of the female gender and the most bought product is the 'Home and lifestyle'.\n",
    " \n",
    " It is observed that the most expensive 'product line' is the 'food and beverages' and it is mostly bought by the female gender."
   ]
  }
 ],
 "metadata": {
  "kernelspec": {
   "display_name": "Python 3 (ipykernel)",
   "language": "python",
   "name": "python3"
  },
  "language_info": {
   "codemirror_mode": {
    "name": "ipython",
    "version": 3
   },
   "file_extension": ".py",
   "mimetype": "text/x-python",
   "name": "python",
   "nbconvert_exporter": "python",
   "pygments_lexer": "ipython3",
   "version": "3.9.13"
  }
 },
 "nbformat": 4,
 "nbformat_minor": 5
}
